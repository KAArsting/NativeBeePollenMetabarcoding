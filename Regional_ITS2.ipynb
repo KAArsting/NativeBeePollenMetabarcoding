{
 "cells": [
  {
   "cell_type": "markdown",
   "metadata": {},
   "source": [
    "# Pipeline for analyzing beepollen data (ITS2)\n",
    "\n",
    "Arstingstall, K.A., S.J. DeBano, X. Li, D.E. Wooster, M.M. Rowland, S. Burrows, & K. Frost; 2020; DNA metabarcoding of native bee pollen loads"
   ]
  },
  {
   "cell_type": "markdown",
   "metadata": {},
   "source": [
    "##### Note: before you start analyzing, move 1. metaBarTools.py 2. meta file (.csv) 3. plate file (.xlsx) to your working directory."
   ]
  },
  {
   "cell_type": "code",
   "execution_count": null,
   "metadata": {},
   "outputs": [],
   "source": [
    "import os\n",
    "from metaBarTools import metaBar_PreX"
   ]
  },
  {
   "cell_type": "code",
   "execution_count": null,
   "metadata": {},
   "outputs": [],
   "source": [
    "!qiime --version #version 2020.11.1"
   ]
  },
  {
   "cell_type": "code",
   "execution_count": null,
   "metadata": {},
   "outputs": [],
   "source": [
    "metaBar = metaBar_PreX()"
   ]
  },
  {
   "cell_type": "code",
   "execution_count": null,
   "metadata": {},
   "outputs": [],
   "source": [
    "# reads path\n",
    "ITS_reads = os.path.abspath(\"./Regional_reads/ITS-reads\")"
   ]
  },
  {
   "cell_type": "code",
   "execution_count": null,
   "metadata": {},
   "outputs": [],
   "source": [
    "# setup path files\n",
    "\n",
    "platesetup = os.path.abspath('./beepollen_all.xlsx')\n",
    "metafile = os.path.abspath('./meta_beepollen_all.csv')"
   ]
  },
  {
   "cell_type": "markdown",
   "metadata": {},
   "source": [
    "## Note: Feb,23, 2021 updated adding missed species in the classifier"
   ]
  },
  {
   "cell_type": "code",
   "execution_count": null,
   "metadata": {},
   "outputs": [],
   "source": [
    "# set up subdirectories for analysis\n",
    "path_ITS, path_rbcL, path_rbcLSE = metaBar.metaBar_makeSubDir(\"Regional_output\", [\"ITS_results\", \"rbcL_results\", \"rbcL_results_SE\"])"
   ]
  },
  {
   "cell_type": "code",
   "execution_count": null,
   "metadata": {},
   "outputs": [],
   "source": [
    "print(path_ITS)\n",
    "print(path_rbcL)\n",
    "print(path_rbcLSE)\n",
    "\n",
    "#...../beepollen/Regional_output/ITS_results\n",
    "#...../beepollen/Regional_output/rbcL_results\n",
    "#...../2021/beepollen/Regional_output/rbcL_results_SE"
   ]
  },
  {
   "cell_type": "markdown",
   "metadata": {},
   "source": [
    "## classifier path\n",
    "\n",
    "* we used the non-curated in the paper"
   ]
  },
  {
   "cell_type": "code",
   "execution_count": null,
   "metadata": {},
   "outputs": [],
   "source": [
    "# non curated ITS2 regional\n",
    "noncurated_ITS_reg = os.path.abspath(\"...../regional/ITS2_NONcurated_ref_classifier.qza\")"
   ]
  },
  {
   "cell_type": "markdown",
   "metadata": {},
   "source": [
    "## Analysis"
   ]
  },
  {
   "cell_type": "code",
   "execution_count": null,
   "metadata": {},
   "outputs": [],
   "source": [
    "path_ITS = \"...../2021/beepollen/Regional_output/ITS_results\""
   ]
  },
  {
   "cell_type": "code",
   "execution_count": null,
   "metadata": {},
   "outputs": [],
   "source": [
    "os.chdir(path_ITS)"
   ]
  },
  {
   "cell_type": "code",
   "execution_count": null,
   "metadata": {},
   "outputs": [],
   "source": [
    "# ITS2 F: ITS-S2F and R: ITS4R\n",
    "ITS_f_len = len(\"ATGCGATACTTGGTGTGAAT\")\n",
    "ITS_r_len = len(\"TCCTCCGCTTATTGATATGC\")"
   ]
  },
  {
   "cell_type": "code",
   "execution_count": null,
   "metadata": {},
   "outputs": [],
   "source": [
    "# create manifest file for qiime2 to find the reads\n",
    "manifest = metaBar.metaBar_Qiime2_Manifest(ITS_reads, platesetup, sheetname=0, matchby=\"sample\")"
   ]
  },
  {
   "cell_type": "code",
   "execution_count": null,
   "metadata": {},
   "outputs": [],
   "source": [
    "!mv ITSS2F@ITS4R_manifest.csv regional_ITS2_manifest.csv"
   ]
  },
  {
   "cell_type": "code",
   "execution_count": null,
   "metadata": {},
   "outputs": [],
   "source": [
    "# import data\n",
    "!qiime tools import \\\n",
    "--type 'SampleData[PairedEndSequencesWithQuality]' \\\n",
    "--input-path ./regional_ITS2_manifest.csv \\\n",
    "--output-path reg_ITS2.qza \\\n",
    "--input-format PairedEndFastqManifestPhred33"
   ]
  },
  {
   "cell_type": "code",
   "execution_count": null,
   "metadata": {},
   "outputs": [],
   "source": [
    "!qiime demux summarize \\\n",
    "--i-data ./reg_ITS2.qza \\\n",
    "--o-visualization ./reg_ITS2.qzv"
   ]
  },
  {
   "cell_type": "code",
   "execution_count": null,
   "metadata": {},
   "outputs": [],
   "source": [
    "# make folders to store dada2 and feature-table results\n",
    "\n",
    "if not os.path.exists(\"dada2-stats\"):\n",
    "    os.makedirs(\"dada2-stats\")\n",
    "    \n",
    "if not os.path.exists(\"feature-tables\"):\n",
    "    os.makedirs(\"feature-tables\")"
   ]
  },
  {
   "cell_type": "code",
   "execution_count": null,
   "metadata": {},
   "outputs": [],
   "source": [
    "# run dada2 for denoising, set truncating quality cutoff at 30\n",
    "# f 298\n",
    "# r 235\n",
    "# dada2 stats 48%\n",
    "\n",
    "!qiime dada2 denoise-paired \\\n",
    "--i-demultiplexed-seqs reg_ITS2.qza \\\n",
    "--output-dir dada2 \\\n",
    "--o-table feature-tables/table_reg_ITS2.qza \\\n",
    "--o-representative-sequences rep_seq_reg_ITS.qza \\\n",
    "--p-trim-left-f $ITS_f_len \\\n",
    "--p-trim-left-r $ITS_r_len \\\n",
    "--p-trunc-len-f 298 \\\n",
    "--p-trunc-len-r 235 \\\n",
    "--p-n-threads 20 \\\n",
    "--o-denoising-stats dada2-stats/dada2_stats.qza"
   ]
  },
  {
   "cell_type": "code",
   "execution_count": null,
   "metadata": {},
   "outputs": [],
   "source": [
    "# visualize the dada2 stats\n",
    "\n",
    "!qiime metadata tabulate \\\n",
    "--m-input-file dada2-stats/dada2_stats.qza \\\n",
    "--o-visualization dada2-stats/dada2_stats.qzv"
   ]
  },
  {
   "cell_type": "code",
   "execution_count": null,
   "metadata": {},
   "outputs": [],
   "source": [
    "# visualize the feature table (OTU table)\n",
    "\n",
    "!qiime feature-table summarize \\\n",
    "--i-table feature-tables/table_reg_ITS2.qza \\\n",
    "--o-visualization feature-tables/table_reg_ITS2.qzv \\\n",
    "--m-sample-metadata-file $metafile"
   ]
  },
  {
   "cell_type": "code",
   "execution_count": null,
   "metadata": {},
   "outputs": [],
   "source": [
    "if not os.path.exists(\"taxonomy\"):\n",
    "    os.makedirs(\"taxonomy\")"
   ]
  },
  {
   "cell_type": "code",
   "execution_count": null,
   "metadata": {},
   "outputs": [],
   "source": [
    "if not os.path.exists(\"taxonomy_updated_missedsp\"):\n",
    "    os.makedirs(\"taxonomy_updated_missedsp\")"
   ]
  },
  {
   "cell_type": "code",
   "execution_count": null,
   "metadata": {},
   "outputs": [],
   "source": [
    "# assign taxonomy - noncurated\n",
    "!qiime feature-classifier classify-sklearn \\\n",
    "--i-classifier $noncurated_ITS_reg \\\n",
    "--i-reads rep_seq_reg_ITS.qza \\\n",
    "--o-classification ./taxonomy_updated_missedsp/taxonomy_updated_noncurated_ITS2.qza\n",
    "\n",
    "# making relative taxonomy barplot\n",
    "!qiime taxa barplot \\\n",
    "--i-table feature-tables/table_reg_ITS2.qza \\\n",
    "--i-taxonomy taxonomy_updated_missedsp/taxonomy_updated_noncurated_ITS2.qza \\\n",
    "--m-metadata-file $metafile \\\n",
    "--o-visualization taxonomy_updated_missedsp/barplot_updated_noncurated_ITS2.qzv"
   ]
  },
  {
   "cell_type": "markdown",
   "metadata": {},
   "source": [
    "## export for R"
   ]
  },
  {
   "cell_type": "code",
   "execution_count": null,
   "metadata": {},
   "outputs": [],
   "source": [
    "!qiime tools export \\\n",
    "--input-path feature-tables/table_reg_ITS2.qza \\\n",
    "--output-path R_process/"
   ]
  },
  {
   "cell_type": "code",
   "execution_count": null,
   "metadata": {},
   "outputs": [],
   "source": [
    "!qiime tools export \\\n",
    "--input-path taxonomy/taxonomy_noncurated_ITS2.qza \\\n",
    "--output-path R_process/noncurated"
   ]
  },
  {
   "cell_type": "code",
   "execution_count": null,
   "metadata": {},
   "outputs": [],
   "source": [
    "!qiime tools export \\\n",
    "--input-path taxonomy/taxonomy_curated_ITS2.qza \\\n",
    "--output-path R_process/curated/"
   ]
  },
  {
   "cell_type": "code",
   "execution_count": null,
   "metadata": {},
   "outputs": [],
   "source": [
    "!mv R_process/noncurated/taxonomy.tsv R_process/noncurated/noncurated_taxonomy.tsv"
   ]
  },
  {
   "cell_type": "code",
   "execution_count": null,
   "metadata": {},
   "outputs": [],
   "source": [
    "!mv R_process/curated/taxonomy.tsv R_process/curated/curated_taxonomy.tsv"
   ]
  },
  {
   "cell_type": "code",
   "execution_count": null,
   "metadata": {},
   "outputs": [],
   "source": [
    "!cp R_process/noncurated/noncurated_taxonomy.tsv R_process/"
   ]
  },
  {
   "cell_type": "code",
   "execution_count": null,
   "metadata": {},
   "outputs": [],
   "source": [
    "!cp R_process/curated/curated_taxonomy.tsv R_process/"
   ]
  },
  {
   "cell_type": "code",
   "execution_count": null,
   "metadata": {},
   "outputs": [],
   "source": [
    "!cp R_process/noncurated_taxonomy.tsv R_process/noncurated_biom-taxonomy.tsv"
   ]
  },
  {
   "cell_type": "code",
   "execution_count": null,
   "metadata": {},
   "outputs": [],
   "source": [
    "!cp R_process/curated_taxonomy.tsv R_process/curated_biom-taxonomy.tsv"
   ]
  },
  {
   "cell_type": "code",
   "execution_count": null,
   "metadata": {},
   "outputs": [],
   "source": [
    "# change header\n",
    "!sed -i '1 s/Feature ID/#OTUID/g; s/Taxon/taxonomy/g; s/Confidence/confidence/g' R_process/noncurated_biom-taxonomy.tsv"
   ]
  },
  {
   "cell_type": "code",
   "execution_count": null,
   "metadata": {},
   "outputs": [],
   "source": [
    "# change header\n",
    "!sed -i '1 s/Feature ID/#OTUID/g; s/Taxon/taxonomy/g; s/Confidence/confidence/g' R_process/curated_biom-taxonomy.tsv"
   ]
  },
  {
   "cell_type": "code",
   "execution_count": null,
   "metadata": {},
   "outputs": [],
   "source": [
    "!biom add-metadata \\\n",
    "-i R_process/feature-table.biom \\\n",
    "-o R_process/noncurated_feature-table-tax.biom \\\n",
    "--observation-metadata-fp R_process/noncurated_biom-taxonomy.tsv \\\n",
    "--sample-metadata-fp $metafile \\\n",
    "--sc-separated taxonomy"
   ]
  },
  {
   "cell_type": "code",
   "execution_count": null,
   "metadata": {},
   "outputs": [],
   "source": [
    "!biom add-metadata \\\n",
    "-i R_process/feature-table.biom \\\n",
    "-o R_process/curated_feature-table-tax.biom \\\n",
    "--observation-metadata-fp R_process/curated_biom-taxonomy.tsv \\\n",
    "--sample-metadata-fp $metafile \\\n",
    "--sc-separated taxonomy"
   ]
  },
  {
   "cell_type": "code",
   "execution_count": null,
   "metadata": {},
   "outputs": [],
   "source": [
    "!biom convert \\\n",
    "-i R_process/noncurated_feature-table-tax.biom \\\n",
    "-o R_process/noncurated_feature-table.tsv \\\n",
    "--to-tsv\n",
    "\n",
    "!biom convert \\\n",
    "-i R_process/curated_feature-table-tax.biom \\\n",
    "-o R_process/curated_feature-table.tsv \\\n",
    "--to-tsv"
   ]
  }
 ],
 "metadata": {
  "kernelspec": {
   "display_name": "Python 3",
   "language": "python",
   "name": "python3"
  },
  "language_info": {
   "codemirror_mode": {
    "name": "ipython",
    "version": 3
   },
   "file_extension": ".py",
   "mimetype": "text/x-python",
   "name": "python",
   "nbconvert_exporter": "python",
   "pygments_lexer": "ipython3",
   "version": "3.7.9"
  }
 },
 "nbformat": 4,
 "nbformat_minor": 4
}
