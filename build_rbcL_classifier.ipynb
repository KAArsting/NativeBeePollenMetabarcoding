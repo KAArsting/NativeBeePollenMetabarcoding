{
 "cells": [
  {
   "cell_type": "code",
   "execution_count": null,
   "metadata": {},
   "outputs": [],
   "source": [
    "!qiime --version #q2cli version 2020.11.1"
   ]
  },
  {
   "cell_type": "markdown",
   "metadata": {},
   "source": [
    "# build classifiers\n",
    "\n",
    "Feb 23, 2021\n",
    "\n",
    "updated with missed species"
   ]
  },
  {
   "cell_type": "code",
   "execution_count": null,
   "metadata": {},
   "outputs": [],
   "source": [
    "import os"
   ]
  },
  {
   "cell_type": "markdown",
   "metadata": {},
   "source": [
    "## Non-curated"
   ]
  },
  {
   "cell_type": "code",
   "execution_count": null,
   "metadata": {},
   "outputs": [],
   "source": [
    "# import reads\n",
    "\n",
    "!qiime tools import \\\n",
    "--type 'FeatureData[Sequence]' \\\n",
    "--input-path ./noncurated/regional/nodup_rbcL_regional_w_sanger_missedsp.fasta \\\n",
    "--output-path ./noncurated/regional/nodup_rbcL_regional_with_sanger_missedsp.qza"
   ]
  },
  {
   "cell_type": "code",
   "execution_count": null,
   "metadata": {},
   "outputs": [],
   "source": [
    "# import mapping\n",
    "\n",
    "!qiime tools import \\\n",
    "--type 'FeatureData[Taxonomy]' \\\n",
    "--input-format HeaderlessTSVTaxonomyFormat \\\n",
    "--input-path ./noncurated/regional/nodup_rbcL_regional_w_sanger_missedsp.mapping \\\n",
    "--output-path ./noncurated/regional/nodup_rbcL_regional_w_sanger_missedsp_mapping.qza"
   ]
  },
  {
   "cell_type": "markdown",
   "metadata": {},
   "source": [
    "#### Extract referece sequences, it is recommended not to extract ITS sequences, same apply to rbcL"
   ]
  },
  {
   "cell_type": "code",
   "execution_count": null,
   "metadata": {},
   "outputs": [],
   "source": [
    "# qiime feature-classifier extract-reads \\\n",
    "#   --i-sequences ./non_curated/nodup_ITS2_regional_with_sanger.qza \\\n",
    "#   --p-f-primer GTGAATCATCGAATCTTTGAA \\\n",
    "#   --p-r-primer TCCTCCGCTTATTGATATGC \\\n",
    "#   --p-min-length 150 \\\n",
    "#   --p-max-length 450 \\\n",
    "#   --o-reads ./non_curated/extracted_nodup_ITS2_regional_with_sanger.qza"
   ]
  },
  {
   "cell_type": "code",
   "execution_count": null,
   "metadata": {},
   "outputs": [],
   "source": [
    "# train classifier\n",
    "\n",
    "!qiime feature-classifier fit-classifier-naive-bayes \\\n",
    "--i-reference-reads ./noncurated/regional/nodup_rbcL_regional_with_sanger_missedsp.qza \\\n",
    "--i-reference-taxonomy ./noncurated/regional/nodup_rbcL_regional_w_sanger_missedsp_mapping.qza \\\n",
    "--o-classifier ./classifiers/regional/rbcL_NONcurated_ref_classifier.qza"
   ]
  },
  {
   "cell_type": "markdown",
   "metadata": {},
   "source": [
    "## Local databases"
   ]
  },
  {
   "cell_type": "markdown",
   "metadata": {},
   "source": [
    "## noncurated"
   ]
  },
  {
   "cell_type": "code",
   "execution_count": null,
   "metadata": {},
   "outputs": [],
   "source": [
    "# sequences and mapping path\n",
    "# starky_seq = os.path.abspath(\"./noncurated/local/star/rbcL_starky_noncurated_with_missedsp.fasta\")\n",
    "# starky_map = os.path.abspath(\"./noncurated/local/star/rbcL_starky_noncurated_with_missedsp.mapping\")\n",
    "starky_seq = os.path.abspath(\"./noncurated/local/star/nodup_rbcL_starky_noncurated_with_missedsp.fasta\")\n",
    "starky_map = os.path.abspath(\"./noncurated/local/star/nodup_rbcL_starky_noncurated_with_missedsp.mapping\")\n",
    "\n",
    "threemile_seq = os.path.abspath(\"./noncurated/local/threemile/rbcL_3mile_noncurated_w_missedsp.fasta\")\n",
    "threemile_map = os.path.abspath(\"./noncurated/local/threemile/rbcL_3mile_noncurated_w_missedsp.mapping\")\n",
    "\n",
    "\n",
    "zum_seq = os.path.abspath(\"./noncurated/local/zum/rbcL_zum_noncurated_w_missedsp.fasta\")\n",
    "zum_map = os.path.abspath(\"./noncurated/local/zum/rbcL_zum_noncurated_w_missedsp.mapping\")"
   ]
  },
  {
   "cell_type": "markdown",
   "metadata": {},
   "source": [
    "## load them into qiime"
   ]
  },
  {
   "cell_type": "markdown",
   "metadata": {},
   "source": [
    "### starky"
   ]
  },
  {
   "cell_type": "code",
   "execution_count": null,
   "metadata": {},
   "outputs": [],
   "source": [
    "!qiime tools import \\\n",
    "--type 'FeatureData[Sequence]' \\\n",
    "--input-path $starky_seq \\\n",
    "--output-path ./noncurated/local/star/noncurate_starky_seq_updated.qza\n",
    "\n",
    "# import mapping\n",
    "\n",
    "!qiime tools import \\\n",
    "--type 'FeatureData[Taxonomy]' \\\n",
    "--input-format HeaderlessTSVTaxonomyFormat \\\n",
    "--input-path $starky_map \\\n",
    "--output-path ./noncurated/local/star/noncurate_starky_tax_updated.qza"
   ]
  },
  {
   "cell_type": "markdown",
   "metadata": {},
   "source": [
    "## threemile"
   ]
  },
  {
   "cell_type": "code",
   "execution_count": null,
   "metadata": {},
   "outputs": [],
   "source": [
    "!qiime tools import \\\n",
    "--type 'FeatureData[Sequence]' \\\n",
    "--input-path $threemile_seq \\\n",
    "--output-path ./noncurated/local/threemile/noncurate_3mile_seq.qza\n",
    "\n",
    "# import mapping\n",
    "\n",
    "!qiime tools import \\\n",
    "--type 'FeatureData[Taxonomy]' \\\n",
    "--input-format HeaderlessTSVTaxonomyFormat \\\n",
    "--input-path $threemile_map \\\n",
    "--output-path ./noncurated/local/threemile/noncurate_3mile_tax.qza"
   ]
  },
  {
   "cell_type": "markdown",
   "metadata": {},
   "source": [
    "### zum"
   ]
  },
  {
   "cell_type": "code",
   "execution_count": null,
   "metadata": {},
   "outputs": [],
   "source": [
    "!qiime tools import \\\n",
    "--type 'FeatureData[Sequence]' \\\n",
    "--input-path $zum_seq \\\n",
    "--output-path ./noncurated/local/zum/noncurate_zum_seq.qza\n",
    "\n",
    "# import mapping\n",
    "\n",
    "!qiime tools import \\\n",
    "--type 'FeatureData[Taxonomy]' \\\n",
    "--input-format HeaderlessTSVTaxonomyFormat \\\n",
    "--input-path $zum_map \\\n",
    "--output-path ./noncurated/local/zum/noncurate_zum_tax.qza"
   ]
  },
  {
   "cell_type": "markdown",
   "metadata": {},
   "source": [
    "## Train classifiers"
   ]
  },
  {
   "cell_type": "code",
   "execution_count": null,
   "metadata": {},
   "outputs": [],
   "source": [
    "# starky\n",
    "# updated\n",
    "\n",
    "!qiime feature-classifier fit-classifier-naive-bayes \\\n",
    "--i-reference-reads ./noncurated/local/star/noncurate_starky_seq_updated.qza \\\n",
    "--i-reference-taxonomy ./noncurated/local/star/noncurate_starky_tax_updated.qza \\\n",
    "--o-classifier ./classifiers/local/starky_rbcL_noncurated_classifier_updated.qza"
   ]
  },
  {
   "cell_type": "code",
   "execution_count": null,
   "metadata": {},
   "outputs": [],
   "source": [
    "# 3mile\n",
    "\n",
    "!qiime feature-classifier fit-classifier-naive-bayes \\\n",
    "--i-reference-reads ./noncurated/local/threemile/noncurate_3mile_seq.qza \\\n",
    "--i-reference-taxonomy ./noncurated/local/threemile/noncurate_3mile_tax.qza \\\n",
    "--o-classifier ./classifiers/local/threemile_rbcL_noncurated_classifier.qza"
   ]
  },
  {
   "cell_type": "code",
   "execution_count": null,
   "metadata": {},
   "outputs": [],
   "source": [
    "# zum\n",
    "\n",
    "!qiime feature-classifier fit-classifier-naive-bayes \\\n",
    "--i-reference-reads ./noncurated/local/zum/noncurate_zum_seq.qza \\\n",
    "--i-reference-taxonomy ./noncurated/local/zum/noncurate_zum_tax.qza \\\n",
    "--o-classifier ./classifiers/local/zum_rbcL_noncurated_classifier.qza"
   ]
  },
  {
   "cell_type": "code",
   "execution_count": null,
   "metadata": {},
   "outputs": [],
   "source": []
  }
 ],
 "metadata": {
  "kernelspec": {
   "display_name": "Python 3",
   "language": "python",
   "name": "python3"
  },
  "language_info": {
   "codemirror_mode": {
    "name": "ipython",
    "version": 3
   },
   "file_extension": ".py",
   "mimetype": "text/x-python",
   "name": "python",
   "nbconvert_exporter": "python",
   "pygments_lexer": "ipython3",
   "version": "3.7.9"
  }
 },
 "nbformat": 4,
 "nbformat_minor": 4
}
