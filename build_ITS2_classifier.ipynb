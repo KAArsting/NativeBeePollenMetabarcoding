{
 "cells": [
  {
   "cell_type": "markdown",
   "metadata": {},
   "source": [
    "Arstingstall, K.A., S.J. DeBano, X. Li, D.E. Wooster, M.M. Rowland, S. Burrows, & K. Frost; 2020; DNA metabarcoding of native bee pollen load"
   ]
  },
  {
   "cell_type": "code",
   "execution_count": null,
   "metadata": {},
   "outputs": [],
   "source": [
    "!qiime --version #q2cli version 2020.11.1"
   ]
  },
  {
   "cell_type": "markdown",
   "metadata": {},
   "source": [
    "# build classifier for the pipeline\n",
    "\n",
    "Feb 23, 2021\n",
    "\n",
    "missed species data added to the previous one"
   ]
  },
  {
   "cell_type": "code",
   "execution_count": null,
   "metadata": {},
   "outputs": [],
   "source": [
    "import os"
   ]
  },
  {
   "cell_type": "markdown",
   "metadata": {},
   "source": [
    "## Non-curated"
   ]
  },
  {
   "cell_type": "code",
   "execution_count": null,
   "metadata": {},
   "outputs": [],
   "source": [
    "# import reads\n",
    "\n",
    "!qiime tools import \\\n",
    "--type 'FeatureData[Sequence]' \\\n",
    "--input-path ./noncurated/regional/ITS2_regional_w_sanger_missedsp.fasta \\\n",
    "--output-path ./noncurated/regional/ITS2_regional_with_sanger_missedsp.qza"
   ]
  },
  {
   "cell_type": "code",
   "execution_count": null,
   "metadata": {},
   "outputs": [],
   "source": [
    "# import mapping\n",
    "\n",
    "!qiime tools import \\\n",
    "--type 'FeatureData[Taxonomy]' \\\n",
    "--input-format HeaderlessTSVTaxonomyFormat \\\n",
    "--input-path ./noncurated/regional/ITS2_regional_w_sanger_missedsp.mapping \\\n",
    "--output-path ./noncurated/regional/ITS2_regional_w_sanger_missedsp_mapping.qza"
   ]
  },
  {
   "cell_type": "markdown",
   "metadata": {},
   "source": [
    "#### Extract referece sequences, it is recommended not to extract ITS sequences in the qiime2 document."
   ]
  },
  {
   "cell_type": "code",
   "execution_count": null,
   "metadata": {},
   "outputs": [],
   "source": [
    "# qiime feature-classifier extract-reads \\\n",
    "#   --i-sequences ./non_curated/nodup_ITS2_regional_with_sanger.qza \\\n",
    "#   --p-f-primer GTGAATCATCGAATCTTTGAA \\\n",
    "#   --p-r-primer TCCTCCGCTTATTGATATGC \\\n",
    "#   --p-min-length 150 \\\n",
    "#   --p-max-length 450 \\\n",
    "#   --o-reads ./non_curated/extracted_nodup_ITS2_regional_with_sanger.qza"
   ]
  },
  {
   "cell_type": "code",
   "execution_count": null,
   "metadata": {},
   "outputs": [],
   "source": [
    "!mkdir -p classifiers/regional\n",
    "!mkdir -p classifiers/local"
   ]
  },
  {
   "cell_type": "code",
   "execution_count": null,
   "metadata": {},
   "outputs": [],
   "source": [
    "# train classifier\n",
    "\n",
    "!qiime feature-classifier fit-classifier-naive-bayes \\\n",
    "--i-reference-reads ./noncurated/regional/ITS2_regional_with_sanger_missedsp.qza \\\n",
    "--i-reference-taxonomy ./noncurated/regional/ITS2_regional_w_sanger_missedsp_mapping.qza \\\n",
    "--o-classifier ./classifiers/regional/ITS2_NONcurated_ref_classifier.qza"
   ]
  },
  {
   "cell_type": "markdown",
   "metadata": {},
   "source": [
    "## Local database Non-curated"
   ]
  },
  {
   "cell_type": "code",
   "execution_count": null,
   "metadata": {},
   "outputs": [],
   "source": [
    "# sequences and mapping path\n",
    "# starky_seq = os.path.abspath(\"./noncurated/local/star/ITS_noncurated_starky_w_sanger_missedsp.fasta\")\n",
    "# starky_map = os.path.abspath(\"./noncurated/local/star/ITS_noncurated_starky_w_sanger_missedsp.mapping\")\n",
    "starky_seq = os.path.abspath(\"./noncurated/local/star/nodup_ITS_noncurated_starky_w_sanger_missedsp.fasta\")\n",
    "starky_map = os.path.abspath(\"./noncurated/local/star/nodup_ITS_noncurated_starky_w_sanger_missedsp.mapping\")\n",
    "\n",
    "threemile_seq = os.path.abspath(\"./noncurated/local/threemile/ITS_noncurated_3mile_w_sanger_missedsp.fasta\")\n",
    "threemile_map = os.path.abspath(\"./noncurated/local/threemile/ITS_noncurated_3mile_w_sanger_missedsp.mapping\")\n",
    "\n",
    "\n",
    "zum_seq = os.path.abspath(\"./noncurated/local/zum/ITS_noncurated_zum_w_sanger_missedsp.fasta\")\n",
    "zum_map = os.path.abspath(\"./noncurated/local/zum/ITS_noncurated_zum_w_sanger_missedsp.mapping\")"
   ]
  },
  {
   "cell_type": "markdown",
   "metadata": {},
   "source": [
    "## load them into qiime"
   ]
  },
  {
   "cell_type": "markdown",
   "metadata": {},
   "source": [
    "#### Starky"
   ]
  },
  {
   "cell_type": "code",
   "execution_count": null,
   "metadata": {},
   "outputs": [],
   "source": [
    "# updated May25 after fixing bugs in removeDup\n",
    "\n",
    "!qiime tools import \\\n",
    "--type 'FeatureData[Sequence]' \\\n",
    "--input-path $starky_seq \\\n",
    "--output-path ./noncurated/local/star/starky_seq_updated.qza\n",
    "\n",
    "# import mapping\n",
    "\n",
    "!qiime tools import \\\n",
    "--type 'FeatureData[Taxonomy]' \\\n",
    "--input-format HeaderlessTSVTaxonomyFormat \\\n",
    "--input-path $starky_map \\\n",
    "--output-path ./noncurated/local/star/starky_tax_updated.qza"
   ]
  },
  {
   "cell_type": "markdown",
   "metadata": {},
   "source": [
    "### 3miles"
   ]
  },
  {
   "cell_type": "code",
   "execution_count": null,
   "metadata": {},
   "outputs": [],
   "source": [
    "!qiime tools import \\\n",
    "--type 'FeatureData[Sequence]' \\\n",
    "--input-path $threemile_seq \\\n",
    "--output-path ./noncurated/local/threemile/threemile_seq.qza\n",
    "\n",
    "# import mapping\n",
    "\n",
    "!qiime tools import \\\n",
    "--type 'FeatureData[Taxonomy]' \\\n",
    "--input-format HeaderlessTSVTaxonomyFormat \\\n",
    "--input-path $threemile_map \\\n",
    "--output-path ./noncurated/local/threemile/threemile_tax.qza"
   ]
  },
  {
   "cell_type": "markdown",
   "metadata": {},
   "source": [
    "### zum"
   ]
  },
  {
   "cell_type": "code",
   "execution_count": null,
   "metadata": {},
   "outputs": [],
   "source": [
    "!qiime tools import \\\n",
    "--type 'FeatureData[Sequence]' \\\n",
    "--input-path $zum_seq \\\n",
    "--output-path ./noncurated/local/zum/zum_seq.qza\n",
    "\n",
    "# import mapping\n",
    "\n",
    "!qiime tools import \\\n",
    "--type 'FeatureData[Taxonomy]' \\\n",
    "--input-format HeaderlessTSVTaxonomyFormat \\\n",
    "--input-path $zum_map \\\n",
    "--output-path ./noncurated/local/zum/zum_tax.qza"
   ]
  },
  {
   "cell_type": "markdown",
   "metadata": {},
   "source": [
    "## Train classifier"
   ]
  },
  {
   "cell_type": "code",
   "execution_count": null,
   "metadata": {},
   "outputs": [],
   "source": [
    "# starky\n",
    "\n",
    "!qiime feature-classifier fit-classifier-naive-bayes \\\n",
    "--i-reference-reads ./noncurated/local/star/starky_seq_updated.qza \\\n",
    "--i-reference-taxonomy ./noncurated/local/star/starky_tax_updated.qza \\\n",
    "--o-classifier ./classifiers/local/starky_ITS2_noncurated_classifier_updated.qza"
   ]
  },
  {
   "cell_type": "code",
   "execution_count": null,
   "metadata": {},
   "outputs": [],
   "source": [
    "# 3mile\n",
    "\n",
    "!qiime feature-classifier fit-classifier-naive-bayes \\\n",
    "--i-reference-reads ./noncurated/local/threemile/threemile_seq.qza \\\n",
    "--i-reference-taxonomy ./noncurated/local/threemile/threemile_tax.qza \\\n",
    "--o-classifier ./classifiers/local/threemile_ITS2_noncurated_classifier.qza"
   ]
  },
  {
   "cell_type": "code",
   "execution_count": null,
   "metadata": {},
   "outputs": [],
   "source": [
    "# zum\n",
    "\n",
    "!qiime feature-classifier fit-classifier-naive-bayes \\\n",
    "--i-reference-reads ./noncurated/local/zum/zum_seq.qza \\\n",
    "--i-reference-taxonomy ./noncurated/local/zum/zum_tax.qza \\\n",
    "--o-classifier ./classifiers/local/zum_ITS2_noncurated_classifier.qza"
   ]
  },
  {
   "cell_type": "code",
   "execution_count": null,
   "metadata": {},
   "outputs": [],
   "source": []
  }
 ],
 "metadata": {
  "kernelspec": {
   "display_name": "Python 3",
   "language": "python",
   "name": "python3"
  },
  "language_info": {
   "codemirror_mode": {
    "name": "ipython",
    "version": 3
   },
   "file_extension": ".py",
   "mimetype": "text/x-python",
   "name": "python",
   "nbconvert_exporter": "python",
   "pygments_lexer": "ipython3",
   "version": "3.7.9"
  }
 },
 "nbformat": 4,
 "nbformat_minor": 4
}
