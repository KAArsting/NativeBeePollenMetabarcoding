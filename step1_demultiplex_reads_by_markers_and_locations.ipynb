{
 "cells": [
  {
   "cell_type": "markdown",
   "metadata": {},
   "source": [
    "## Demultiplex Reads by DNA marker and locations\n",
    "\n",
    "Xiaoping Li  \n",
    "Oregon State University Hermiston Agricultural Research and Extension Center\n",
    "\n",
    "1/15/2020"
   ]
  },
  {
   "cell_type": "code",
   "execution_count": 1,
   "metadata": {},
   "outputs": [],
   "source": [
    "from sort_reads import Sort_reads\n",
    "from metaBarTools import metaBar_PreX\n",
    "import os"
   ]
  },
  {
   "cell_type": "markdown",
   "metadata": {},
   "source": [
    "### Our first task is to separate rbcL and ITS2 reads in the raw reads"
   ]
  },
  {
   "cell_type": "code",
   "execution_count": 2,
   "metadata": {},
   "outputs": [],
   "source": [
    "# locating raw reads\n",
    "readspath1 = \"reads1 path\"\n",
    "readspath2 = \"reads2 path\"\n",
    "readscopyfolder1 = os.path.join(os.getcwd(), 'beepollen1-reads-copy')\n",
    "readscopyfolder2 = os.path.join(os.getcwd(), 'beepollen2-reads-copy')"
   ]
  },
  {
   "cell_type": "code",
   "execution_count": 3,
   "metadata": {},
   "outputs": [],
   "source": [
    "# metafile for qiime2\n",
    "grouping_file = \"./meta_group_location.csv\" # meta_group_location.csv\n",
    "metafile = os.path.abspath(\"./meta_beepollen_all.csv\")\n",
    "platesetup = os.path.abspath(\"./beepollen_all.xlsx\")"
   ]
  },
  {
   "cell_type": "code",
   "execution_count": 4,
   "metadata": {},
   "outputs": [],
   "source": [
    "metaBar = metaBar_PreX()"
   ]
  },
  {
   "cell_type": "code",
   "execution_count": 21,
   "metadata": {},
   "outputs": [
    {
     "name": "stdout",
     "output_type": "stream",
     "text": [
      "\n",
      "        ####################################################\n",
      "        #########          metaBar_makeSubDir     ##########\n",
      "        ####################################################\n",
      "        \n"
     ]
    }
   ],
   "source": [
    "path_ITS, path_rbcL = metaBar.metaBar_makeSubDir(\"Regional_reads\", [\"\", \"\"])"
   ]
  },
  {
   "cell_type": "code",
   "execution_count": null,
   "metadata": {},
   "outputs": [],
   "source": [
    "# use metaBar_Copy to copy all the reads to working directory, so we won't mess up the original reads. after copying please comment the following command out\n",
    "\n",
    "metaBar.metaBar_Copy(readspath1, readscopyfolder1)\n",
    "metaBar.metaBar_Copy(readspath2, readscopyfolder2)"
   ]
  },
  {
   "cell_type": "code",
   "execution_count": 8,
   "metadata": {},
   "outputs": [
    {
     "name": "stdout",
     "output_type": "stream",
     "text": [
      "Total reads 1114\n",
      "ITS-reads: 100%|████████████████████████████| 557/557 [6:17:38<00:00, 22.05s/it]\n",
      "rbcL-reads: 100%|███████████████████████████| 557/557 [1:24:32<00:00,  4.87s/it]\n",
      "Completed!\n"
     ]
    }
   ],
   "source": [
    "# separating the mixed reads (rbcL and ITS2)\n",
    "!python demuplex_reads.py --reads $readscopyfolder1 $readscopyfolder2 --m 3 --primer ./primerfile"
   ]
  },
  {
   "cell_type": "markdown",
   "metadata": {},
   "source": [
    "### Second task is to separate the reads from above by location "
   ]
  },
  {
   "cell_type": "code",
   "execution_count": 22,
   "metadata": {},
   "outputs": [],
   "source": [
    "# move the ITS reads and rbcL reads to the Regional_reads folder\n",
    "\n",
    "!mv ITS-reads/ Regional_reads/\n",
    "!mv rbcL-reads/ Regional_reads/"
   ]
  },
  {
   "cell_type": "code",
   "execution_count": 23,
   "metadata": {},
   "outputs": [],
   "source": [
    "# separate ITS and rbcL reads\n",
    "ITS_reads_all = os.path.abspath('./Regional_reads/ITS-reads/')\n",
    "rbcL_reads_all = os.path.abspath('./Regional_reads/rbcL-reads/')"
   ]
  },
  {
   "cell_type": "code",
   "execution_count": 31,
   "metadata": {},
   "outputs": [
    {
     "data": {
      "text/plain": [
       "'/media/swaggyp1985/HDD4T/OSU_Projects_2017-2018/running_project/beepollen_github/Regional_reads/ITS-reads'"
      ]
     },
     "execution_count": 31,
     "metadata": {},
     "output_type": "execute_result"
    }
   ],
   "source": [
    "ITS_reads_all"
   ]
  },
  {
   "cell_type": "code",
   "execution_count": 26,
   "metadata": {},
   "outputs": [
    {
     "name": "stdout",
     "output_type": "stream",
     "text": [
      "\n",
      "        ####################################################\n",
      "        #########          metaBar_makeSubDir     ##########\n",
      "        ####################################################\n",
      "        \n"
     ]
    }
   ],
   "source": [
    "ITS_reads_local, rbcL_reads_local = metaBar.metaBar_makeSubDir(\"Local_reads\", [\"ITS_reads_local\", \"rbcL_reads_local\"])"
   ]
  },
  {
   "cell_type": "code",
   "execution_count": 27,
   "metadata": {},
   "outputs": [
    {
     "name": "stderr",
     "output_type": "stream",
     "text": [
      "Blank # reads - 12 - progress: 100%|██████████| 12/12 [00:00<00:00, 869.42it/s]\n",
      "Mix # reads - 30 - progress:  20%|██        | 6/30 [00:00<00:00, 53.64it/s]"
     ]
    },
    {
     "name": "stdout",
     "output_type": "stream",
     "text": [
      "Original total number of reads: 1114\n",
      "\n",
      "There are 1114 reads in grouped files\n"
     ]
    },
    {
     "name": "stderr",
     "output_type": "stream",
     "text": [
      "Mix # reads - 30 - progress: 100%|██████████| 30/30 [00:00<00:00, 67.20it/s]\n",
      "OA # reads - 6 - progress: 100%|██████████| 6/6 [00:00<00:00, 72.37it/s]\n",
      "PCR_Neg # reads - 14 - progress: 100%|██████████| 14/14 [00:00<00:00, 733.80it/s]\n",
      "PG # reads - 6 - progress: 100%|██████████| 6/6 [00:00<00:00, 66.85it/s]\n",
      "Plate-Blank # reads - 14 - progress: 100%|██████████| 14/14 [00:00<00:00, 2144.09it/s]\n",
      "RDO # reads - 318 - progress: 100%|██████████| 318/318 [00:06<00:00, 47.22it/s]\n",
      "SO # reads - 6 - progress: 100%|██████████| 6/6 [00:00<00:00, 117.91it/s]\n",
      "Star # reads - 448 - progress: 100%|██████████| 448/448 [00:18<00:00, 23.69it/s]\n",
      "TM # reads - 6 - progress: 100%|██████████| 6/6 [00:00<00:00, 55.24it/s]\n",
      "VV # reads - 6 - progress: 100%|██████████| 6/6 [00:00<00:00, 46.34it/s]\n",
      "ZUM # reads - 248 - progress: 100%|██████████| 248/248 [00:11<00:00, 20.78it/s]"
     ]
    },
    {
     "name": "stdout",
     "output_type": "stream",
     "text": [
      "Completed\n"
     ]
    },
    {
     "name": "stderr",
     "output_type": "stream",
     "text": [
      "\n"
     ]
    }
   ],
   "source": [
    "# grouping ITS2 by study sites\n",
    "grouped_ITS = Sort_reads(ITS_reads_all, metafile)\n",
    "grouping_ITS = grouped_ITS.grouping_reads(\"Location\")\n",
    "grouping_ITS_path = grouping_ITS.copy_reads(ITS_reads_local, \"reads_copy_by_location\")"
   ]
  },
  {
   "cell_type": "code",
   "execution_count": 28,
   "metadata": {},
   "outputs": [
    {
     "data": {
      "text/plain": [
       "{'Blank': '/media/swaggyp1985/HDD4T/OSU_Projects_2017-2018/running_project/beepollen_github/Local_reads/ITS_reads_local/reads_copy_by_location/Blank',\n",
       " 'Mix': '/media/swaggyp1985/HDD4T/OSU_Projects_2017-2018/running_project/beepollen_github/Local_reads/ITS_reads_local/reads_copy_by_location/Mix',\n",
       " 'OA': '/media/swaggyp1985/HDD4T/OSU_Projects_2017-2018/running_project/beepollen_github/Local_reads/ITS_reads_local/reads_copy_by_location/OA',\n",
       " 'PCR_Neg': '/media/swaggyp1985/HDD4T/OSU_Projects_2017-2018/running_project/beepollen_github/Local_reads/ITS_reads_local/reads_copy_by_location/PCR_Neg',\n",
       " 'PG': '/media/swaggyp1985/HDD4T/OSU_Projects_2017-2018/running_project/beepollen_github/Local_reads/ITS_reads_local/reads_copy_by_location/PG',\n",
       " 'Plate-Blank': '/media/swaggyp1985/HDD4T/OSU_Projects_2017-2018/running_project/beepollen_github/Local_reads/ITS_reads_local/reads_copy_by_location/Plate-Blank',\n",
       " 'RDO': '/media/swaggyp1985/HDD4T/OSU_Projects_2017-2018/running_project/beepollen_github/Local_reads/ITS_reads_local/reads_copy_by_location/RDO',\n",
       " 'SO': '/media/swaggyp1985/HDD4T/OSU_Projects_2017-2018/running_project/beepollen_github/Local_reads/ITS_reads_local/reads_copy_by_location/SO',\n",
       " 'Star': '/media/swaggyp1985/HDD4T/OSU_Projects_2017-2018/running_project/beepollen_github/Local_reads/ITS_reads_local/reads_copy_by_location/Star',\n",
       " 'TM': '/media/swaggyp1985/HDD4T/OSU_Projects_2017-2018/running_project/beepollen_github/Local_reads/ITS_reads_local/reads_copy_by_location/TM',\n",
       " 'VV': '/media/swaggyp1985/HDD4T/OSU_Projects_2017-2018/running_project/beepollen_github/Local_reads/ITS_reads_local/reads_copy_by_location/VV',\n",
       " 'ZUM': '/media/swaggyp1985/HDD4T/OSU_Projects_2017-2018/running_project/beepollen_github/Local_reads/ITS_reads_local/reads_copy_by_location/ZUM'}"
      ]
     },
     "execution_count": 28,
     "metadata": {},
     "output_type": "execute_result"
    }
   ],
   "source": [
    "grouping_ITS_path"
   ]
  },
  {
   "cell_type": "code",
   "execution_count": 29,
   "metadata": {},
   "outputs": [
    {
     "name": "stderr",
     "output_type": "stream",
     "text": [
      "Blank # reads - 12 - progress: 100%|██████████| 12/12 [00:00<00:00, 3990.77it/s]\n",
      "Mix # reads - 30 - progress: 100%|██████████| 30/30 [00:00<00:00, 5576.79it/s]\n",
      "OA # reads - 6 - progress:   0%|          | 0/6 [00:00<?, ?it/s]"
     ]
    },
    {
     "name": "stdout",
     "output_type": "stream",
     "text": [
      "Original total number of reads: 1114\n",
      "\n",
      "There are 1114 reads in grouped files\n"
     ]
    },
    {
     "name": "stderr",
     "output_type": "stream",
     "text": [
      "OA # reads - 6 - progress: 100%|██████████| 6/6 [00:00<00:00, 24.20it/s]\n",
      "PCR_Neg # reads - 14 - progress: 100%|██████████| 14/14 [00:00<00:00, 4771.29it/s]\n",
      "PG # reads - 6 - progress: 100%|██████████| 6/6 [00:00<00:00, 3693.79it/s]\n",
      "Plate-Blank # reads - 14 - progress: 100%|██████████| 14/14 [00:00<00:00, 4209.94it/s]\n",
      "RDO # reads - 318 - progress: 100%|██████████| 318/318 [00:00<00:00, 4966.58it/s]\n",
      "SO # reads - 6 - progress: 100%|██████████| 6/6 [00:00<00:00, 58.37it/s]\n",
      "Star # reads - 448 - progress: 100%|██████████| 448/448 [00:01<00:00, 269.26it/s]\n",
      "TM # reads - 6 - progress: 100%|██████████| 6/6 [00:00<00:00, 2068.03it/s]\n",
      "VV # reads - 6 - progress: 100%|██████████| 6/6 [00:00<00:00, 79.09it/s]\n",
      "ZUM # reads - 248 - progress: 100%|██████████| 248/248 [00:00<00:00, 3937.26it/s]"
     ]
    },
    {
     "name": "stdout",
     "output_type": "stream",
     "text": [
      "Completed\n"
     ]
    },
    {
     "name": "stderr",
     "output_type": "stream",
     "text": [
      "\n"
     ]
    }
   ],
   "source": [
    "# grouping rbcL by study sites\n",
    "\n",
    "grouped_rbcL = Sort_reads(rbcL_reads_all, metafile)\n",
    "grouping_rbcL = grouped_rbcL.grouping_reads(\"Location\")\n",
    "grouping_rbcL_path = grouping_rbcL.copy_reads(rbcL_reads_local, \"reads_copy_by_location\")"
   ]
  },
  {
   "cell_type": "code",
   "execution_count": 30,
   "metadata": {},
   "outputs": [
    {
     "data": {
      "text/plain": [
       "{'Blank': '/media/swaggyp1985/HDD4T/OSU_Projects_2017-2018/running_project/beepollen_github/Local_reads/rbcL_reads_local/reads_copy_by_location/Blank',\n",
       " 'Mix': '/media/swaggyp1985/HDD4T/OSU_Projects_2017-2018/running_project/beepollen_github/Local_reads/rbcL_reads_local/reads_copy_by_location/Mix',\n",
       " 'OA': '/media/swaggyp1985/HDD4T/OSU_Projects_2017-2018/running_project/beepollen_github/Local_reads/rbcL_reads_local/reads_copy_by_location/OA',\n",
       " 'PCR_Neg': '/media/swaggyp1985/HDD4T/OSU_Projects_2017-2018/running_project/beepollen_github/Local_reads/rbcL_reads_local/reads_copy_by_location/PCR_Neg',\n",
       " 'PG': '/media/swaggyp1985/HDD4T/OSU_Projects_2017-2018/running_project/beepollen_github/Local_reads/rbcL_reads_local/reads_copy_by_location/PG',\n",
       " 'Plate-Blank': '/media/swaggyp1985/HDD4T/OSU_Projects_2017-2018/running_project/beepollen_github/Local_reads/rbcL_reads_local/reads_copy_by_location/Plate-Blank',\n",
       " 'RDO': '/media/swaggyp1985/HDD4T/OSU_Projects_2017-2018/running_project/beepollen_github/Local_reads/rbcL_reads_local/reads_copy_by_location/RDO',\n",
       " 'SO': '/media/swaggyp1985/HDD4T/OSU_Projects_2017-2018/running_project/beepollen_github/Local_reads/rbcL_reads_local/reads_copy_by_location/SO',\n",
       " 'Star': '/media/swaggyp1985/HDD4T/OSU_Projects_2017-2018/running_project/beepollen_github/Local_reads/rbcL_reads_local/reads_copy_by_location/Star',\n",
       " 'TM': '/media/swaggyp1985/HDD4T/OSU_Projects_2017-2018/running_project/beepollen_github/Local_reads/rbcL_reads_local/reads_copy_by_location/TM',\n",
       " 'VV': '/media/swaggyp1985/HDD4T/OSU_Projects_2017-2018/running_project/beepollen_github/Local_reads/rbcL_reads_local/reads_copy_by_location/VV',\n",
       " 'ZUM': '/media/swaggyp1985/HDD4T/OSU_Projects_2017-2018/running_project/beepollen_github/Local_reads/rbcL_reads_local/reads_copy_by_location/ZUM'}"
      ]
     },
     "execution_count": 30,
     "metadata": {},
     "output_type": "execute_result"
    }
   ],
   "source": [
    "grouping_rbcL_path"
   ]
  },
  {
   "cell_type": "code",
   "execution_count": null,
   "metadata": {},
   "outputs": [],
   "source": []
  }
 ],
 "metadata": {
  "kernelspec": {
   "display_name": "Python 3",
   "language": "python",
   "name": "python3"
  },
  "language_info": {
   "codemirror_mode": {
    "name": "ipython",
    "version": 3
   },
   "file_extension": ".py",
   "mimetype": "text/x-python",
   "name": "python",
   "nbconvert_exporter": "python",
   "pygments_lexer": "ipython3",
   "version": "3.6.7"
  }
 },
 "nbformat": 4,
 "nbformat_minor": 2
}
