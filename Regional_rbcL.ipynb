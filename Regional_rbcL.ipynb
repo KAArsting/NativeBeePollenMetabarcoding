{
 "cells": [
  {
   "cell_type": "markdown",
   "metadata": {},
   "source": [
    "# Pipeline for analyzing beepollen data (rbcL)\n",
    "\n",
    "Arstingstall, K.A., S.J. DeBano, X. Li, D.E. Wooster, M.M. Rowland, S. Burrows, & K. Frost; 2020; DNA metabarcoding of native bee pollen loads"
   ]
  },
  {
   "cell_type": "markdown",
   "metadata": {},
   "source": [
    "##### Note: before you start analyzing, move 1. metaBarTools.py 2. meta file (.csv) 3. plate file (.xlsx) to your working directory."
   ]
  },
  {
   "cell_type": "code",
   "execution_count": null,
   "metadata": {},
   "outputs": [],
   "source": [
    "import os\n",
    "from metaBarTools import metaBar_PreX"
   ]
  },
  {
   "cell_type": "code",
   "execution_count": null,
   "metadata": {},
   "outputs": [],
   "source": [
    "!qiime --version #version 2020.11.1"
   ]
  },
  {
   "cell_type": "code",
   "execution_count": null,
   "metadata": {},
   "outputs": [],
   "source": [
    "metaBar = metaBar_PreX()"
   ]
  },
  {
   "cell_type": "code",
   "execution_count": null,
   "metadata": {},
   "outputs": [],
   "source": [
    "# reads path\n",
    "rbcL_reads = os.path.abspath(\"./Regional_reads/rbcL-reads/\")"
   ]
  },
  {
   "cell_type": "code",
   "execution_count": null,
   "metadata": {},
   "outputs": [],
   "source": [
    "# setup path files, plate setup and metadata\n",
    "platesetup = os.path.abspath('./beepollen_all.xlsx')\n",
    "metafile = os.path.abspath('./meta_beepollen_all.csv')"
   ]
  },
  {
   "cell_type": "code",
   "execution_count": null,
   "metadata": {},
   "outputs": [],
   "source": [
    "# output path\n",
    "path_rbcL = \"...../beepollen/Regional_output/rbcL_results\""
   ]
  },
  {
   "cell_type": "markdown",
   "metadata": {},
   "source": [
    "## classifier path"
   ]
  },
  {
   "cell_type": "code",
   "execution_count": null,
   "metadata": {},
   "outputs": [],
   "source": [
    "# non curated rbcL regional\n",
    "# use new classifier with missed sp\n",
    "\n",
    "noncurated_rbcL_reg = os.path.abspath(\"...../classifiers/regional/rbcL_NONcurated_ref_classifier.qza\")"
   ]
  },
  {
   "cell_type": "markdown",
   "metadata": {},
   "source": [
    "## Analysis\n",
    "\n",
    "* use paired end reads"
   ]
  },
  {
   "cell_type": "code",
   "execution_count": null,
   "metadata": {},
   "outputs": [],
   "source": [
    "os.chdir(path_rbcL)"
   ]
  },
  {
   "cell_type": "code",
   "execution_count": null,
   "metadata": {},
   "outputs": [],
   "source": [
    "# making manifest file\n",
    "manifest_rbcL_single = metaBar.metaBar_Qiime2_Manifest(rbcL_reads, platesetup, sheetname=0, matchby=\"sample\")"
   ]
  },
  {
   "cell_type": "code",
   "execution_count": null,
   "metadata": {},
   "outputs": [],
   "source": [
    "!mv ITSS2F@ITS4R_manifest.csv rbcl_PE_manifest.csv"
   ]
  },
  {
   "cell_type": "code",
   "execution_count": null,
   "metadata": {},
   "outputs": [],
   "source": [
    "rbcL_f_len = len(\"TGGCAGCATTYCGAGTAACTC\")\n",
    "rbcL_r_len = len(\"GTAAAATCAAGTCCACCRCG\")"
   ]
  },
  {
   "cell_type": "code",
   "execution_count": null,
   "metadata": {},
   "outputs": [],
   "source": [
    "if not os.path.exists(\"dada2-stats\"):\n",
    "    os.makedirs(\"dada2-stats\")\n",
    "    \n",
    "if not os.path.exists(\"feature-tables\"):\n",
    "    os.makedirs(\"feature-tables\")"
   ]
  },
  {
   "cell_type": "code",
   "execution_count": null,
   "metadata": {},
   "outputs": [],
   "source": [
    "# import into qiime2\n",
    "\n",
    "!qiime tools import \\\n",
    "--type 'SampleData[PairedEndSequencesWithQuality]' \\\n",
    "--input-path ./rbcl_PE_manifest.csv \\\n",
    "--output-path reg_rbcL_seq.qza \\\n",
    "--input-format PairedEndFastqManifestPhred33"
   ]
  },
  {
   "cell_type": "code",
   "execution_count": null,
   "metadata": {},
   "outputs": [],
   "source": [
    "!qiime demux summarize \\\n",
    "--i-data ./reg_rbcL_seq.qza \\\n",
    "--o-visualization ./reg_rbcL_seq.qzv"
   ]
  },
  {
   "cell_type": "code",
   "execution_count": null,
   "metadata": {},
   "outputs": [],
   "source": [
    "# dada2 for paired end\n",
    "# f 300\n",
    "# r 244\n",
    "\n",
    "!qiime dada2 denoise-paired \\\n",
    "--i-demultiplexed-seqs reg_rbcL_seq.qza \\\n",
    "--output-dir dada2 \\\n",
    "--o-table feature-tables/table_reg_rbcL.qza \\\n",
    "--o-representative-sequences rep_reg_rbcL.qza \\\n",
    "--p-trim-left-f $rbcL_f_len \\\n",
    "--p-trim-left-r $rbcL_r_len \\\n",
    "--p-trunc-len-f 300 \\\n",
    "--p-trunc-len-r 244 \\\n",
    "--p-n-threads 20 \\\n",
    "--o-denoising-stats dada2-stats/dada2_stats.qza"
   ]
  },
  {
   "cell_type": "code",
   "execution_count": null,
   "metadata": {},
   "outputs": [],
   "source": [
    "# visualize the dada2 stats\n",
    "!qiime metadata tabulate \\\n",
    "--m-input-file dada2-stats/dada2_stats.qza \\\n",
    "--o-visualization dada2-stats/dada2_stats.qzv"
   ]
  },
  {
   "cell_type": "code",
   "execution_count": null,
   "metadata": {},
   "outputs": [],
   "source": [
    "# visualize the feature table (OTU table)\n",
    "\n",
    "!qiime feature-table summarize \\\n",
    "--i-table feature-tables/table_reg_rbcL.qza \\\n",
    "--o-visualization feature-tables/table_reg_rbcL.qzv \\\n",
    "--m-sample-metadata-file $metafile"
   ]
  },
  {
   "cell_type": "code",
   "execution_count": null,
   "metadata": {},
   "outputs": [],
   "source": [
    "if not os.path.exists(\"taxonomy_updated_missedsp\"):\n",
    "    os.makedirs(\"taxonomy_updated_missedsp\")"
   ]
  },
  {
   "cell_type": "code",
   "execution_count": null,
   "metadata": {},
   "outputs": [],
   "source": [
    "# assign taxonomy - noncurated\n",
    "!qiime feature-classifier classify-sklearn \\\n",
    "--i-classifier $noncurated_rbcL_reg \\\n",
    "--i-reads rep_reg_rbcL.qza \\\n",
    "--o-classification ./taxonomy_updated_missedsp/taxonomy_updated_noncurated_rbcL.qza\n",
    "\n",
    "# making relative taxonomy barplot\n",
    "!qiime taxa barplot \\\n",
    "--i-table feature-tables/table_reg_rbcL.qza \\\n",
    "--i-taxonomy taxonomy_updated_missedsp/taxonomy_updated_noncurated_rbcL.qza \\\n",
    "--m-metadata-file $metafile \\\n",
    "--o-visualization taxonomy_updated_missedsp/barplot_updated_noncurated_rbcL.qzv"
   ]
  },
  {
   "cell_type": "code",
   "execution_count": null,
   "metadata": {},
   "outputs": [],
   "source": [
    "# !qiime tools export \\\n",
    "# --input-path feature-tables/table_reg_rbcL.qza \\\n",
    "# --output-path R_process/\n",
    "\n",
    "# !qiime tools export \\\n",
    "# --input-path taxonomy/taxonomy_noncurated_rbcL.qza \\\n",
    "# --output-path R_process/noncurated\n",
    "\n",
    "# !qiime tools export \\\n",
    "# --input-path taxonomy/taxonomy_curated_rbcL.qza \\\n",
    "# --output-path R_process/curated/\n",
    "\n",
    "# !mv R_process/noncurated/taxonomy.tsv R_process/noncurated/noncurated_taxonomy.tsv\n",
    "\n",
    "# !mv R_process/curated/taxonomy.tsv R_process/curated/curated_taxonomy.tsv\n",
    "\n",
    "# !cp R_process/noncurated/noncurated_taxonomy.tsv R_process/\n",
    "\n",
    "# !cp R_process/curated/curated_taxonomy.tsv R_process/\n",
    "\n",
    "# !cp R_process/noncurated_taxonomy.tsv R_process/noncurated_biom-taxonomy.tsv\n",
    "\n",
    "# !cp R_process/curated_taxonomy.tsv R_process/curated_biom-taxonomy.tsv\n",
    "\n",
    "# # change header\n",
    "# !sed -i '1 s/Feature ID/#OTUID/g; s/Taxon/taxonomy/g; s/Confidence/confidence/g' R_process/noncurated_biom-taxonomy.tsv\n",
    "\n",
    "# # change header\n",
    "# !sed -i '1 s/Feature ID/#OTUID/g; s/Taxon/taxonomy/g; s/Confidence/confidence/g' R_process/curated_biom-taxonomy.tsv\n",
    "\n",
    "# !biom add-metadata \\\n",
    "# -i R_process/feature-table.biom \\\n",
    "# -o R_process/noncurated_feature-table-tax.biom \\\n",
    "# --observation-metadata-fp R_process/noncurated_biom-taxonomy.tsv \\\n",
    "# --sample-metadata-fp $metafile \\\n",
    "# --sc-separated taxonomy\n",
    "\n",
    "# !biom add-metadata \\\n",
    "# -i R_process/feature-table.biom \\\n",
    "# -o R_process/curated_feature-table-tax.biom \\\n",
    "# --observation-metadata-fp R_process/curated_biom-taxonomy.tsv \\\n",
    "# --sample-metadata-fp $metafile \\\n",
    "# --sc-separated taxonomy\n",
    "\n",
    "# !biom convert \\\n",
    "# -i R_process/noncurated_feature-table-tax.biom \\\n",
    "# -o R_process/noncurated_feature-table.tsv \\\n",
    "# --to-tsv\n",
    "\n",
    "# !biom convert \\\n",
    "# -i R_process/curated_feature-table-tax.biom \\\n",
    "# -o R_process/curated_feature-table.tsv \\\n",
    "# --to-tsv\n",
    "\n",
    "# !qiime tools export \\\n",
    "# --input-path rooted_tree.qza \\\n",
    "# --output-path R_process/"
   ]
  },
  {
   "cell_type": "code",
   "execution_count": null,
   "metadata": {},
   "outputs": [],
   "source": []
  }
 ],
 "metadata": {
  "kernelspec": {
   "display_name": "Python 3",
   "language": "python",
   "name": "python3"
  },
  "language_info": {
   "codemirror_mode": {
    "name": "ipython",
    "version": 3
   },
   "file_extension": ".py",
   "mimetype": "text/x-python",
   "name": "python",
   "nbconvert_exporter": "python",
   "pygments_lexer": "ipython3",
   "version": "3.7.9"
  }
 },
 "nbformat": 4,
 "nbformat_minor": 4
}
