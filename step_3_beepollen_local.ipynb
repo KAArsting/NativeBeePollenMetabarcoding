{
 "cells": [
  {
   "cell_type": "markdown",
   "metadata": {},
   "source": [
    "# Pipeline for analyzing beepollen data (Local database)\n",
    "\n",
    "Author: Xiaoping Li  \n",
    "Organization: Oregon State University Hermiston Agricultural Research and Extension Center"
   ]
  },
  {
   "cell_type": "code",
   "execution_count": null,
   "metadata": {},
   "outputs": [],
   "source": [
    "from metaBarTools import metaBar_PreX\n",
    "from sort_reads import Sort_reads\n",
    "import os"
   ]
  },
  {
   "cell_type": "code",
   "execution_count": null,
   "metadata": {},
   "outputs": [],
   "source": [
    "metaBar = metaBar_PreX()"
   ]
  },
  {
   "cell_type": "code",
   "execution_count": null,
   "metadata": {},
   "outputs": [],
   "source": [
    "# metafile and platesetup file\n",
    "metafile = os.path.abspath(\"./meta_beepollen_all.csv\")\n",
    "platesetup = os.path.abspath(\"./beepollen_all.xlsx\")\n",
    "\n",
    "\n",
    "# reads\n",
    "ITS_reads_local = os.path.abspath(\"./Local_reads/ITS_reads_local/reads_copy_by_location/\")\n",
    "rbcL_reads_local = os.path.abspath(\"./Local_reads/rbcL_reads_local/reads_copy_by_location/\")\n"
   ]
  },
  {
   "cell_type": "code",
   "execution_count": null,
   "metadata": {},
   "outputs": [],
   "source": [
    "# database path\n",
    "ITS_starkey_db, ITS_starkey_mapping = os.path.abspath(\"./database_beepollen/Local/ITS2_Starkey_Local.fasta\"),os.path.abspath(\"./database_beepollen/Local/ITS2_Starkey_Local.mapping\")\n",
    "\n",
    "ITS_zum_db, ITS_zum_mapping = os.path.abspath(\"./database_beepollen/Local/ITS2_Zumwalt_Local.fasta\"), os.path.abspath(\"./database_beepollen/Local/ITS2_Zumwalt_Local.mapping\")\n",
    "\n",
    "ITS_rdo_db, ITS_rdo_mapping = os.path.abspath(\"./database_beepollen/Local/ITS2_Threemile_Local.fasta\"), os.path.abspath(\"./database_beepollen/Local/ITS2_Threemile_Local.mapping\")\n",
    "\n",
    "rbcl_starkey_db, rbcl_starkey_mapping = os.path.abspath(\"./database_beepollen/Local/rbcL_Starkey_Local.fasta\"),os.path.abspath(\"./database_beepollen/Local/rbcL_Starkey_Local.mapping\")\n",
    "\n",
    "rbcl_zum_db, rbcl_zum_mapping = os.path.abspath(\"./database_beepollen/Local/rbcL_Zumwalt_Local.fasta\"),os.path.abspath(\"./database_beepollen/Local/rbcL_Zumwalt_Local.mapping\")\n",
    "\n",
    "rbcl_rdo_db, rbcl_rdo_mapping = os.path.abspath(\"./database_beepollen/Local/rbcL_Threemile_Local.fasta\"), os.path.abspath(\"./database_beepollen/Local/rbcL_Threemile_Local.mapping\")"
   ]
  },
  {
   "cell_type": "code",
   "execution_count": null,
   "metadata": {},
   "outputs": [],
   "source": [
    "ITS_f_len = len(\"ATGCGATACTTGGTGTGAAT\")\n",
    "ITS_r_len = len(\"TCCTCCGCTTATTGATATGC\")"
   ]
  },
  {
   "cell_type": "code",
   "execution_count": null,
   "metadata": {},
   "outputs": [],
   "source": [
    "path_ITS, path_rbcL, path_rbcL_single = metaBar.metaBar_makeSubDir(\"Local_Results\", [\"ITS_result\", \"rbcL_result\", \"rbcL_result_single\"])"
   ]
  },
  {
   "cell_type": "markdown",
   "metadata": {},
   "source": [
    "## ITS2 analysis with local database"
   ]
  },
  {
   "cell_type": "code",
   "execution_count": null,
   "metadata": {},
   "outputs": [],
   "source": [
    "# change working directory to ITS_result\n",
    "os.chdir(path_ITS)"
   ]
  },
  {
   "cell_type": "markdown",
   "metadata": {},
   "source": [
    "> assume you have reads_copy_by_location in current working directory"
   ]
  },
  {
   "cell_type": "code",
   "execution_count": null,
   "metadata": {},
   "outputs": [],
   "source": [
    "# make sub folders for each location\n",
    "\n",
    "subpaths = []\n",
    "\n",
    "for i in os.listdir(ITS_reads_local):\n",
    "    if i in [\"ZUM\", \"Star\", \"RDO\"]:\n",
    "        if not os.path.exists(i):\n",
    "            os.makedirs(i)\n",
    "            \n",
    "        subpaths.append(os.path.abspath(i))\n"
   ]
  },
  {
   "cell_type": "markdown",
   "metadata": {},
   "source": [
    "### Zumwalt"
   ]
  },
  {
   "cell_type": "code",
   "execution_count": null,
   "metadata": {},
   "outputs": [],
   "source": [
    "os.chdir(subpaths[0])"
   ]
  },
  {
   "cell_type": "code",
   "execution_count": null,
   "metadata": {},
   "outputs": [],
   "source": [
    "os.getcwd()"
   ]
  },
  {
   "cell_type": "code",
   "execution_count": null,
   "metadata": {},
   "outputs": [],
   "source": [
    "# make manifest file\n",
    "manifest_zum = metaBar.metaBar_Qiime2_Manifest(os.path.join(ITS_reads_local, \"ZUM\"), platesetup, sheetname=0, matchby=\"sample\")"
   ]
  },
  {
   "cell_type": "code",
   "execution_count": null,
   "metadata": {},
   "outputs": [],
   "source": [
    "!mv ITSS2F@ITS4R_manifest.csv zum_its_manifest.csv"
   ]
  },
  {
   "cell_type": "code",
   "execution_count": null,
   "metadata": {},
   "outputs": [],
   "source": [
    "# load reads into qiime2\n",
    "\n",
    "!qiime tools import \\\n",
    "--type 'SampleData[PairedEndSequencesWithQuality]' \\\n",
    "--input-path ./zum_its_manifest.csv \\\n",
    "--output-path zum_its.qza \\\n",
    "--input-format PairedEndFastqManifestPhred33"
   ]
  },
  {
   "cell_type": "code",
   "execution_count": null,
   "metadata": {},
   "outputs": [],
   "source": [
    "# view summarise of the quality\n",
    "!qiime demux summarize \\\n",
    "--i-data zum_its.qza \\\n",
    "--o-visualization zum_its_seq.qzv"
   ]
  },
  {
   "cell_type": "code",
   "execution_count": null,
   "metadata": {},
   "outputs": [],
   "source": [
    "# dada2 denosing and quality score 22\n",
    "\n",
    "!qiime dada2 denoise-paired \\\n",
    "--i-demultiplexed-seqs zum_its.qza \\\n",
    "--output-dir dada2 \\\n",
    "--o-table table-zum \\\n",
    "--o-representative-sequences rep_seq_zum \\\n",
    "--p-trim-left-f $ITS_f_len \\\n",
    "--p-trim-left-r $ITS_r_len \\\n",
    "--p-trunc-len-f 288 \\\n",
    "--p-trunc-len-r 237 \\\n",
    "--p-n-threads 12 "
   ]
  },
  {
   "cell_type": "code",
   "execution_count": null,
   "metadata": {},
   "outputs": [],
   "source": [
    "# visualization\n",
    "\n",
    "!qiime feature-table summarize \\\n",
    "--i-table table-zum.qza \\\n",
    "--o-visualization table-zum.qzv \\\n",
    "--m-sample-metadata-file $metafile"
   ]
  },
  {
   "cell_type": "code",
   "execution_count": null,
   "metadata": {},
   "outputs": [],
   "source": [
    "!qiime feature-table filter-features \\\n",
    "--i-table table-zum.qza \\\n",
    "--p-min-frequency 1000 \\\n",
    "--p-min-samples 4 \\\n",
    "--o-filtered-table filtered-table.qza"
   ]
  },
  {
   "cell_type": "code",
   "execution_count": null,
   "metadata": {},
   "outputs": [],
   "source": [
    "if not os.path.exists(\"classifier\"):\n",
    "    os.makedirs(\"classifier\")\n",
    "    \n",
    "if not os.path.exists(\"taxonomy\"):\n",
    "    os.makedirs(\"taxonomy\")"
   ]
  },
  {
   "cell_type": "code",
   "execution_count": null,
   "metadata": {},
   "outputs": [],
   "source": [
    "# import ref sequences into qiime2\n",
    "!qiime tools import \\\n",
    "--type 'FeatureData[Sequence]' \\\n",
    "--input-path $ITS_zum_db \\\n",
    "--output-path ./classifier/ITS2_loc_ZUM_site.qza"
   ]
  },
  {
   "cell_type": "code",
   "execution_count": null,
   "metadata": {},
   "outputs": [],
   "source": [
    "# import mapping into qiime\n",
    "\n",
    "!qiime tools import \\\n",
    "--type 'FeatureData[Taxonomy]' \\\n",
    "--input-format HeaderlessTSVTaxonomyFormat \\\n",
    "--input-path $ITS_zum_mapping \\\n",
    "--output-path ./classifier/ITS2_taxonomy_loc_ZUM_site.qza"
   ]
  },
  {
   "cell_type": "code",
   "execution_count": null,
   "metadata": {},
   "outputs": [],
   "source": [
    "# build classifier\n",
    "!qiime feature-classifier fit-classifier-naive-bayes \\\n",
    "--i-reference-reads ./classifier/ITS2_loc_ZUM_site.qza \\\n",
    "--i-reference-taxonomy ./classifier/ITS2_taxonomy_loc_ZUM_site.qza \\\n",
    "--o-classifier ./classifier/classifier_ITS2_loc_ZUM.qza"
   ]
  },
  {
   "cell_type": "code",
   "execution_count": null,
   "metadata": {},
   "outputs": [],
   "source": [
    "# assign taxonomy\n",
    "!qiime feature-classifier classify-sklearn \\\n",
    "--i-classifier ./classifier/classifier_ITS2_loc_ZUM.qza \\\n",
    "--i-reads rep_seq_zum.qza \\\n",
    "--o-classification ./taxonomy/taxonomy_ITS2_loc_ZUM.qza"
   ]
  },
  {
   "cell_type": "code",
   "execution_count": null,
   "metadata": {},
   "outputs": [],
   "source": [
    "# visualize taxonomy assingment\n",
    "!qiime metadata tabulate \\\n",
    "--m-input-file taxonomy/taxonomy_ITS2_loc_ZUM.qza \\\n",
    "--o-visualization taxonomy/taxonomy_ITS2_loc_ZUM.qzv"
   ]
  },
  {
   "cell_type": "code",
   "execution_count": null,
   "metadata": {},
   "outputs": [],
   "source": [
    "# taxonomy composition barplot\n",
    "!qiime taxa barplot \\\n",
    "--i-table filtered-table.qza \\\n",
    "--i-taxonomy taxonomy/taxonomy_ITS2_loc_ZUM.qza \\\n",
    "--m-metadata-file $metafile \\\n",
    "--o-visualization taxonomy/barplot_ITS2_loc_ZUM.qzv"
   ]
  },
  {
   "cell_type": "markdown",
   "metadata": {},
   "source": [
    "### Starkey"
   ]
  },
  {
   "cell_type": "code",
   "execution_count": null,
   "metadata": {},
   "outputs": [],
   "source": [
    "# change directory to starkey folder\n",
    "os.chdir(subpaths[1])"
   ]
  },
  {
   "cell_type": "code",
   "execution_count": null,
   "metadata": {},
   "outputs": [],
   "source": [
    "# generate manifest file for starkey\n",
    "manifest_star = metaBar.metaBar_Qiime2_Manifest(os.path.join(ITS_reads_local, \"Star\"), platesetup, sheetname=0, matchby=\"sample\")\n",
    "\n",
    "!mv ITSS2F@ITS4R_manifest.csv star_its_manifest.csv"
   ]
  },
  {
   "cell_type": "code",
   "execution_count": null,
   "metadata": {},
   "outputs": [],
   "source": [
    "# import reads into qiime2\n",
    "\n",
    "!qiime tools import \\\n",
    "--type 'SampleData[PairedEndSequencesWithQuality]' \\\n",
    "--input-path ./star_its_manifest.csv \\\n",
    "--output-path star_its.qza \\\n",
    "--input-format PairedEndFastqManifestPhred33"
   ]
  },
  {
   "cell_type": "code",
   "execution_count": null,
   "metadata": {},
   "outputs": [],
   "source": [
    "# view summarise of the quality\n",
    "\n",
    "!qiime demux summarize \\\n",
    "--i-data star_its.qza \\\n",
    "--o-visualization star_its_seq.qzv"
   ]
  },
  {
   "cell_type": "code",
   "execution_count": null,
   "metadata": {},
   "outputs": [],
   "source": [
    "# run dada2. Truncate quality at 22\n",
    "\n",
    "!qiime dada2 denoise-paired \\\n",
    "--i-demultiplexed-seqs star_its.qza \\\n",
    "--output-dir dada2 \\\n",
    "--o-table table-star \\\n",
    "--o-representative-sequences rep_seq_star \\\n",
    "--p-trim-left-f $ITS_f_len \\\n",
    "--p-trim-left-r $ITS_r_len \\\n",
    "--p-trunc-len-f 299 \\\n",
    "--p-trunc-len-r 244 \\\n",
    "--p-n-threads 12 "
   ]
  },
  {
   "cell_type": "code",
   "execution_count": null,
   "metadata": {},
   "outputs": [],
   "source": [
    "# filter OTU table\n",
    "\n",
    "!qiime feature-table filter-features \\\n",
    "--i-table table-star.qza \\\n",
    "--p-min-frequency 1000 \\\n",
    "--p-min-samples 4 \\\n",
    "--o-filtered-table filtered-table.qza"
   ]
  },
  {
   "cell_type": "code",
   "execution_count": null,
   "metadata": {},
   "outputs": [],
   "source": [
    "if not os.path.exists(\"classifier\"):\n",
    "    os.makedirs(\"classifier\")\n",
    "    \n",
    "if not os.path.exists(\"taxonomy\"):\n",
    "    os.makedirs(\"taxonomy\")"
   ]
  },
  {
   "cell_type": "code",
   "execution_count": null,
   "metadata": {},
   "outputs": [],
   "source": [
    "# import ref sequence and mapping into qiime2\n",
    "\n",
    "!qiime tools import \\\n",
    "--type 'FeatureData[Sequence]' \\\n",
    "--input-path $ITS_starkey_db \\\n",
    "--output-path ./classifier/ITS2_loc_STAR_site.qza\n",
    "\n",
    "!qiime tools import \\\n",
    "--type 'FeatureData[Taxonomy]' \\\n",
    "--input-format HeaderlessTSVTaxonomyFormat \\\n",
    "--input-path $ITS_starkey_mapping \\\n",
    "--output-path ./classifier/ITS2_taxonomy_loc_STAR_site.qza"
   ]
  },
  {
   "cell_type": "code",
   "execution_count": null,
   "metadata": {},
   "outputs": [],
   "source": [
    "# fit classifier\n",
    "!qiime feature-classifier fit-classifier-naive-bayes \\\n",
    "--i-reference-reads ./classifier/ITS2_loc_STAR_site.qza \\\n",
    "--i-reference-taxonomy ./classifier/ITS2_taxonomy_loc_STAR_site.qza \\\n",
    "--o-classifier ./classifier/classifier_ITS2_loc_STAR.qza"
   ]
  },
  {
   "cell_type": "code",
   "execution_count": null,
   "metadata": {},
   "outputs": [],
   "source": [
    "# assign taxonomy\n",
    "!qiime feature-classifier classify-sklearn \\\n",
    "--i-classifier ./classifier/classifier_ITS2_loc_STAR.qza \\\n",
    "--i-reads rep_seq_star.qza \\\n",
    "--o-classification ./taxonomy/taxonomy_ITS2_loc_STAR.qza"
   ]
  },
  {
   "cell_type": "code",
   "execution_count": null,
   "metadata": {},
   "outputs": [],
   "source": [
    "# tabulate taxonomy assignment\n",
    "\n",
    "!qiime metadata tabulate \\\n",
    "--m-input-file taxonomy/taxonomy_ITS2_loc_STAR.qza \\\n",
    "--o-visualization taxonomy/taxonomy_ITS2_loc_STAR.qzv"
   ]
  },
  {
   "cell_type": "code",
   "execution_count": null,
   "metadata": {},
   "outputs": [],
   "source": [
    "# visualize composition\n",
    "\n",
    "!qiime taxa barplot \\\n",
    "--i-table filtered-table.qza \\\n",
    "--i-taxonomy taxonomy/taxonomy_ITS2_loc_STAR.qza \\\n",
    "--m-metadata-file $metafile \\\n",
    "--o-visualization taxonomy/barplot_ITS2_loc_STAR.qzv"
   ]
  },
  {
   "cell_type": "markdown",
   "metadata": {},
   "source": [
    "### Threemile farm"
   ]
  },
  {
   "cell_type": "code",
   "execution_count": null,
   "metadata": {},
   "outputs": [],
   "source": [
    "os.chdir(subpaths[2])"
   ]
  },
  {
   "cell_type": "code",
   "execution_count": null,
   "metadata": {},
   "outputs": [],
   "source": [
    "# generate manifest file for RDO\n",
    "manifest_rdo = metaBar.metaBar_Qiime2_Manifest(os.path.join(ITS_reads_local, \"RDO\"), platesetup, sheetname=0, matchby=\"sample\")\n",
    "\n",
    "!mv ITSS2F@ITS4R_manifest.csv rdo_its_manifest.csv"
   ]
  },
  {
   "cell_type": "code",
   "execution_count": null,
   "metadata": {},
   "outputs": [],
   "source": [
    "# import reads\n",
    "\n",
    "!qiime tools import \\\n",
    "--type 'SampleData[PairedEndSequencesWithQuality]' \\\n",
    "--input-path ./rdo_its_manifest.csv \\\n",
    "--output-path rdo_its.qza \\\n",
    "--input-format PairedEndFastqManifestPhred33"
   ]
  },
  {
   "cell_type": "code",
   "execution_count": null,
   "metadata": {},
   "outputs": [],
   "source": [
    "# view summarise of the quality\n",
    "!qiime demux summarize \\\n",
    "--i-data rdo_its.qza \\\n",
    "--o-visualization rdo_its_seq.qzv"
   ]
  },
  {
   "cell_type": "code",
   "execution_count": null,
   "metadata": {},
   "outputs": [],
   "source": [
    "# dada2 denoising; truncate cutoff 22\n",
    "\n",
    "!qiime dada2 denoise-paired \\\n",
    "--i-demultiplexed-seqs rdo_its.qza \\\n",
    "--output-dir dada2 \\\n",
    "--o-table table-rdo \\\n",
    "--o-representative-sequences rep_seq_rdo \\\n",
    "--p-trim-left-f $ITS_f_len \\\n",
    "--p-trim-left-r $ITS_r_len \\\n",
    "--p-trunc-len-f 299 \\\n",
    "--p-trunc-len-r 243 \\\n",
    "--p-n-threads 12"
   ]
  },
  {
   "cell_type": "code",
   "execution_count": null,
   "metadata": {},
   "outputs": [],
   "source": [
    "# filter OTU table (feature table)\n",
    "\n",
    "!qiime feature-table filter-features \\\n",
    "--i-table table-rdo.qza \\\n",
    "--p-min-frequency 1000 \\\n",
    "--p-min-samples 4 \\\n",
    "--o-filtered-table filtered-table.qza"
   ]
  },
  {
   "cell_type": "code",
   "execution_count": null,
   "metadata": {},
   "outputs": [],
   "source": [
    "if not os.path.exists(\"classifier\"):\n",
    "    os.makedirs(\"classifier\")\n",
    "if not os.path.exists(\"taxonomy\"):\n",
    "    os.makedirs(\"taxonomy\")"
   ]
  },
  {
   "cell_type": "code",
   "execution_count": null,
   "metadata": {},
   "outputs": [],
   "source": [
    "# import ref sequences and mapping\n",
    "\n",
    "!qiime tools import \\\n",
    "--type 'FeatureData[Sequence]' \\\n",
    "--input-path $ITS_rdo_db \\\n",
    "--output-path ./classifier/ITS2_loc_rdo_site.qza\n",
    "\n",
    "!qiime tools import \\\n",
    "--type 'FeatureData[Taxonomy]' \\\n",
    "--input-format HeaderlessTSVTaxonomyFormat \\\n",
    "--input-path $ITS_rdo_mapping \\\n",
    "--output-path ./classifier/ITS2_taxonomy_loc_rdo_site.qza"
   ]
  },
  {
   "cell_type": "code",
   "execution_count": null,
   "metadata": {},
   "outputs": [],
   "source": [
    "# fit classifier\n",
    "\n",
    "!qiime feature-classifier fit-classifier-naive-bayes \\\n",
    "--i-reference-reads ./classifier/ITS2_loc_rdo_site.qza \\\n",
    "--i-reference-taxonomy ./classifier/ITS2_taxonomy_loc_rdo_site.qza \\\n",
    "--o-classifier ./classifier/classifier_ITS2_loc_rdo.qza"
   ]
  },
  {
   "cell_type": "code",
   "execution_count": null,
   "metadata": {},
   "outputs": [],
   "source": [
    "# assign taxonomy\n",
    "!qiime feature-classifier classify-sklearn \\\n",
    "--i-classifier ./classifier/classifier_ITS2_loc_rdo.qza \\\n",
    "--i-reads rep_seq_rdo.qza \\\n",
    "--o-classification ./taxonomy/taxonomy_ITS2_loc_rdo.qza"
   ]
  },
  {
   "cell_type": "code",
   "execution_count": null,
   "metadata": {},
   "outputs": [],
   "source": [
    "# tabulate taxonomy assignment\n",
    "\n",
    "!qiime metadata tabulate \\\n",
    "--m-input-file taxonomy/taxonomy_ITS2_loc_rdo.qza \\\n",
    "--o-visualization taxonomy/taxonomy_ITS2_loc_rdo.qzv"
   ]
  },
  {
   "cell_type": "code",
   "execution_count": null,
   "metadata": {},
   "outputs": [],
   "source": [
    "# visualize taxonomy composition\n",
    "\n",
    "!qiime taxa barplot \\\n",
    "--i-table filtered-table.qza \\\n",
    "--i-taxonomy taxonomy/taxonomy_ITS2_loc_rdo.qza \\\n",
    "--m-metadata-file $metafile \\\n",
    "--o-visualization taxonomy/barplot_ITS2_loc_rdo.qzv"
   ]
  },
  {
   "cell_type": "markdown",
   "metadata": {},
   "source": [
    "## rbcL Paired End (local)"
   ]
  },
  {
   "cell_type": "code",
   "execution_count": null,
   "metadata": {},
   "outputs": [],
   "source": [
    "rbcL_f_len = len(\"TGGCAGCATTYCGAGTAACTC\")\n",
    "rbcL_r_len = len(\"GTAAAATCAAGTCCACCRCG\")"
   ]
  },
  {
   "cell_type": "code",
   "execution_count": null,
   "metadata": {},
   "outputs": [],
   "source": [
    "os.chdir(path_rbcL)"
   ]
  },
  {
   "cell_type": "code",
   "execution_count": null,
   "metadata": {},
   "outputs": [],
   "source": [
    "subpaths = []\n",
    "\n",
    "for i in os.listdir(rbcL_reads_local):\n",
    "    if i in [\"ZUM\", \"Star\", \"RDO\"]:\n",
    "        if not os.path.exists(i):\n",
    "            os.makedirs(i)\n",
    "        subpaths.append(os.path.abspath(i))"
   ]
  },
  {
   "cell_type": "markdown",
   "metadata": {},
   "source": [
    "### Zumwalt"
   ]
  },
  {
   "cell_type": "code",
   "execution_count": null,
   "metadata": {},
   "outputs": [],
   "source": [
    "os.chdir(subpaths[0])"
   ]
  },
  {
   "cell_type": "code",
   "execution_count": null,
   "metadata": {},
   "outputs": [],
   "source": [
    "# generate manifest file for zumwalt\n",
    "\n",
    "manifest_zum = metaBar.metaBar_Qiime2_Manifest(os.path.join(rbcL_reads_local, \"ZUM\"), platesetup, sheetname=0, matchby=\"sample\")\n",
    "\n",
    "# default by the primer name provided in platesetup\n",
    "!mv ITSS2F@ITS4R_manifest.csv zum_rbcl_manifest.csv"
   ]
  },
  {
   "cell_type": "code",
   "execution_count": null,
   "metadata": {},
   "outputs": [],
   "source": [
    "# import reads\n",
    "\n",
    "!qiime tools import \\\n",
    "--type 'SampleData[PairedEndSequencesWithQuality]' \\\n",
    "--input-path ./zum_rbcl_manifest.csv \\\n",
    "--output-path zum_rbcl.qza \\\n",
    "--input-format PairedEndFastqManifestPhred33"
   ]
  },
  {
   "cell_type": "code",
   "execution_count": null,
   "metadata": {},
   "outputs": [],
   "source": [
    "# view summarise of the quality\n",
    "!qiime demux summarize \\\n",
    "--i-data zum_rbcl.qza \\\n",
    "--o-visualization zum_rbcl_seq.qzv"
   ]
  },
  {
   "cell_type": "code",
   "execution_count": null,
   "metadata": {},
   "outputs": [],
   "source": [
    "# dada2 denosing\n",
    "\n",
    "!qiime dada2 denoise-paired \\\n",
    "--i-demultiplexed-seqs zum_rbcl.qza \\\n",
    "--output-dir dada2 \\\n",
    "--o-table table_rbcl_zum.qza \\\n",
    "--o-representative-sequences rep_seq_zum_rbcl.qza \\\n",
    "--p-trim-left-f $rbcL_f_len \\\n",
    "--p-trim-left-r $rbcL_r_len \\\n",
    "--p-trunc-len-f 299 \\\n",
    "--p-trunc-len-r 243 \\\n",
    "--p-n-threads 12"
   ]
  },
  {
   "cell_type": "code",
   "execution_count": null,
   "metadata": {},
   "outputs": [],
   "source": [
    "!qiime feature-table filter-features \\\n",
    "--i-table table_rbcl_zum.qza \\\n",
    "--p-min-frequency 1000 \\\n",
    "--p-min-samples 4 \\\n",
    "--o-filtered-table filtered_table.qza"
   ]
  },
  {
   "cell_type": "code",
   "execution_count": null,
   "metadata": {},
   "outputs": [],
   "source": [
    "if not os.path.exists(\"classifier\"):\n",
    "    os.makedirs(\"classifier\")\n",
    "    \n",
    "if not os.path.exists(\"taxonomy\"):\n",
    "    os.makedirs(\"taxonomy\")"
   ]
  },
  {
   "cell_type": "code",
   "execution_count": null,
   "metadata": {},
   "outputs": [],
   "source": [
    "# import ref database\n",
    "\n",
    "!qiime tools import \\\n",
    "--type 'FeatureData[Sequence]' \\\n",
    "--input-path $rbcl_zum_db \\\n",
    "--output-path ./classifier/rbcL_loc_zum_site.qza\n",
    "\n",
    "!qiime tools import \\\n",
    "--type 'FeatureData[Taxonomy]' \\\n",
    "--input-format HeaderlessTSVTaxonomyFormat \\\n",
    "--input-path $rbcl_zum_mapping \\\n",
    "--output-path ./classifier/rbcL_taxonomy_loc_zum_site.qza"
   ]
  },
  {
   "cell_type": "code",
   "execution_count": null,
   "metadata": {},
   "outputs": [],
   "source": [
    "# fit classifier\n",
    "\n",
    "!qiime feature-classifier fit-classifier-naive-bayes \\\n",
    "--i-reference-reads ./classifier/rbcL_loc_zum_site.qza \\\n",
    "--i-reference-taxonomy ./classifier/rbcL_taxonomy_loc_zum_site.qza \\\n",
    "--p-feat-ext--ngram-range '[32, 32]' \\\n",
    "--o-classifier ./classifier/classifier_rbcL_loc_zum.qza"
   ]
  },
  {
   "cell_type": "code",
   "execution_count": null,
   "metadata": {},
   "outputs": [],
   "source": [
    "# assign taxonomy\n",
    "\n",
    "!qiime feature-classifier classify-sklearn \\\n",
    "--i-classifier ./classifier/classifier_rbcL_loc_zum.qza \\\n",
    "--i-reads rep_seq_zum_rbcl.qza \\\n",
    "--p-confidence 0.6 \\\n",
    "--o-classification ./taxonomy/taxonomy_rbcL_loc_zum.qza"
   ]
  },
  {
   "cell_type": "code",
   "execution_count": null,
   "metadata": {},
   "outputs": [],
   "source": [
    "# tabulate taxonomy assignment\n",
    "\n",
    "!qiime metadata tabulate \\\n",
    "--m-input-file taxonomy/taxonomy_rbcL_loc_zum.qza \\\n",
    "--o-visualization taxonomy/taxonomy_rbcL_loc_zum.qzv"
   ]
  },
  {
   "cell_type": "code",
   "execution_count": null,
   "metadata": {},
   "outputs": [],
   "source": [
    "# view taxonomy composition\n",
    "\n",
    "!qiime taxa barplot \\\n",
    "--i-table filtered_table.qza \\\n",
    "--i-taxonomy taxonomy/taxonomy_rbcL_loc_zum.qza \\\n",
    "--m-metadata-file $metafile \\\n",
    "--o-visualization taxonomy/barplot_rbcL_loc_zum.qzv"
   ]
  },
  {
   "cell_type": "markdown",
   "metadata": {},
   "source": [
    "### Starkey"
   ]
  },
  {
   "cell_type": "code",
   "execution_count": null,
   "metadata": {},
   "outputs": [],
   "source": [
    "# change working directory to starkey\n",
    "\n",
    "os.chdir(subpaths[1])"
   ]
  },
  {
   "cell_type": "code",
   "execution_count": null,
   "metadata": {},
   "outputs": [],
   "source": [
    "# generate manifest file\n",
    "\n",
    "manifest_star = metaBar.metaBar_Qiime2_Manifest(os.path.join(rbcL_reads_local, \"Star\"), platesetup, sheetname=0, matchby=\"sample\")\n",
    "\n",
    "!mv ITSS2F@ITS4R_manifest.csv star_rbcl_manifest.csv"
   ]
  },
  {
   "cell_type": "code",
   "execution_count": null,
   "metadata": {},
   "outputs": [],
   "source": [
    "# import reads\n",
    "\n",
    "!qiime tools import \\\n",
    "--type 'SampleData[PairedEndSequencesWithQuality]' \\\n",
    "--input-path ./star_rbcl_manifest.csv \\\n",
    "--output-path star_rbcl.qza \\\n",
    "--input-format PairedEndFastqManifestPhred33"
   ]
  },
  {
   "cell_type": "code",
   "execution_count": null,
   "metadata": {},
   "outputs": [],
   "source": [
    "# view summarise of the quality\n",
    "!qiime demux summarize \\\n",
    "--i-data star_rbcl.qza \\\n",
    "--o-visualization star_rbcl_seq.qzv"
   ]
  },
  {
   "cell_type": "code",
   "execution_count": null,
   "metadata": {},
   "outputs": [],
   "source": [
    "# dada2 denoising\n",
    "\n",
    "!qiime dada2 denoise-paired \\\n",
    "--i-demultiplexed-seqs star_rbcl.qza \\\n",
    "--output-dir dada2 \\\n",
    "--o-table table_rbcl_star.qza \\\n",
    "--o-representative-sequences rep_seq_star_rbcl.qza \\\n",
    "--p-trim-left-f $rbcL_f_len \\\n",
    "--p-trim-left-r $rbcL_r_len \\\n",
    "--p-trunc-len-f 299 \\\n",
    "--p-trunc-len-r 268 \\\n",
    "--p-n-threads 12"
   ]
  },
  {
   "cell_type": "code",
   "execution_count": null,
   "metadata": {},
   "outputs": [],
   "source": [
    "# filtering feature table\n",
    "\n",
    "!qiime feature-table filter-features \\\n",
    "--i-table table_rbcl_star.qza \\\n",
    "--p-min-frequency 1000 \\\n",
    "--p-min-samples 4 \\\n",
    "--o-filtered-table filtered_table.qza"
   ]
  },
  {
   "cell_type": "code",
   "execution_count": null,
   "metadata": {},
   "outputs": [],
   "source": [
    "if not os.path.exists(\"taxonomy\"):\n",
    "    os.makedirs(\"taxonomy\")\n",
    "    \n",
    "if not os.path.exists(\"classifier\"):\n",
    "    os.makedirs(\"classifier\")"
   ]
  },
  {
   "cell_type": "code",
   "execution_count": null,
   "metadata": {},
   "outputs": [],
   "source": [
    "# import ref database\n",
    "\n",
    "!qiime tools import \\\n",
    "--type 'FeatureData[Sequence]' \\\n",
    "--input-path $rbcl_starkey_db \\\n",
    "--output-path ./classifier/rbcl_loc_starkey_site.qza\n",
    "\n",
    "!qiime tools import \\\n",
    "--type 'FeatureData[Taxonomy]' \\\n",
    "--input-format HeaderlessTSVTaxonomyFormat \\\n",
    "--input-path $rbcl_starkey_mapping \\\n",
    "--output-path ./classifier/rbcL_taxonomy_loc_starkey_site.qza"
   ]
  },
  {
   "cell_type": "code",
   "execution_count": null,
   "metadata": {},
   "outputs": [],
   "source": [
    "# fit classifier\n",
    "\n",
    "!qiime feature-classifier fit-classifier-naive-bayes \\\n",
    "--i-reference-reads ./classifier/rbcl_loc_starkey_site.qza \\\n",
    "--i-reference-taxonomy ./classifier/rbcL_taxonomy_loc_starkey_site.qza \\\n",
    "--o-classifier ./classifier/classifier_rbcL_loc_star.qza"
   ]
  },
  {
   "cell_type": "code",
   "execution_count": null,
   "metadata": {},
   "outputs": [],
   "source": [
    "# assign taxonomy\n",
    "\n",
    "!qiime feature-classifier classify-sklearn \\\n",
    "--i-classifier ./classifier/classifier_rbcL_loc_star.qza \\\n",
    "--i-reads rep_seq_star_rbcl.qza \\\n",
    "--o-classification ./taxonomy/taxonomy_rbcL_loc_star.qza"
   ]
  },
  {
   "cell_type": "code",
   "execution_count": null,
   "metadata": {},
   "outputs": [],
   "source": [
    "# tabulate taxonomy\n",
    "\n",
    "!qiime metadata tabulate \\\n",
    "--m-input-file taxonomy/taxonomy_rbcL_loc_star.qza \\\n",
    "--o-visualization taxonomy/taxonomy_rbcL_loc_star.qzv"
   ]
  },
  {
   "cell_type": "code",
   "execution_count": null,
   "metadata": {},
   "outputs": [],
   "source": [
    "# visualize taxonomy composition\n",
    "\n",
    "!qiime taxa barplot \\\n",
    "--i-table filtered_table.qza \\\n",
    "--i-taxonomy taxonomy/taxonomy_rbcL_loc_star.qza \\\n",
    "--m-metadata-file $metafile \\\n",
    "--o-visualization taxonomy/barplot_rbcL_loc_star.qzv"
   ]
  },
  {
   "cell_type": "markdown",
   "metadata": {},
   "source": [
    "### Threemile farm"
   ]
  },
  {
   "cell_type": "code",
   "execution_count": null,
   "metadata": {},
   "outputs": [],
   "source": [
    "# change directory to RDO\n",
    "\n",
    "os.chdir(subpaths[2])"
   ]
  },
  {
   "cell_type": "code",
   "execution_count": null,
   "metadata": {},
   "outputs": [],
   "source": [
    "# generate manifest file\n",
    "\n",
    "manifest_rdo = metaBar.metaBar_Qiime2_Manifest(os.path.join(rbcL_reads_local, \"RDO\"), platesetup, sheetname=0, matchby=\"sample\")\n",
    "\n",
    "!mv ITSS2F@ITS4R_manifest.csv rdo_rbcl_manifest.csv"
   ]
  },
  {
   "cell_type": "code",
   "execution_count": null,
   "metadata": {},
   "outputs": [],
   "source": [
    "# import reads\n",
    "\n",
    "!qiime tools import \\\n",
    "--type 'SampleData[PairedEndSequencesWithQuality]' \\\n",
    "--input-path ./rdo_rbcl_manifest.csv \\\n",
    "--output-path rdo_rbcl.qza \\\n",
    "--input-format PairedEndFastqManifestPhred33"
   ]
  },
  {
   "cell_type": "code",
   "execution_count": null,
   "metadata": {},
   "outputs": [],
   "source": [
    "# view summarise of the quality\n",
    "!qiime demux summarize \\\n",
    "--i-data rdo_rbcl.qza \\\n",
    "--o-visualization rdo_rbcl_seq.qzv"
   ]
  },
  {
   "cell_type": "code",
   "execution_count": null,
   "metadata": {},
   "outputs": [],
   "source": [
    "# dada2 denoising\n",
    "\n",
    "!qiime dada2 denoise-paired \\\n",
    "--i-demultiplexed-seqs rdo_rbcl.qza \\\n",
    "--output-dir dada2 \\\n",
    "--o-table table_rbcl_rdo.qza \\\n",
    "--o-representative-sequences rep_seq_rdo_rbcl.qza \\\n",
    "--p-trim-left-f $rbcL_f_len \\\n",
    "--p-trim-left-r $rbcL_r_len \\\n",
    "--p-trunc-len-f 299 \\\n",
    "--p-trunc-len-r 243 \\\n",
    "--p-n-threads 12"
   ]
  },
  {
   "cell_type": "code",
   "execution_count": null,
   "metadata": {},
   "outputs": [],
   "source": [
    "# filter OTU table\n",
    "\n",
    "!qiime feature-table filter-features \\\n",
    "--i-table table_rbcl_rdo.qza \\\n",
    "--p-min-frequency 1000 \\\n",
    "--p-min-samples 4 \\\n",
    "--o-filtered-table filtered_table.qza"
   ]
  },
  {
   "cell_type": "code",
   "execution_count": null,
   "metadata": {},
   "outputs": [],
   "source": [
    "if not os.path.exists(\"taxonomy\"):\n",
    "    os.makedirs(\"taxonomy\")\n",
    "    \n",
    "if not os.path.exists(\"classifier\"):\n",
    "    os.makedirs(\"classifier\")"
   ]
  },
  {
   "cell_type": "code",
   "execution_count": null,
   "metadata": {},
   "outputs": [],
   "source": [
    "# import ref database\n",
    "\n",
    "!qiime tools import \\\n",
    "--type 'FeatureData[Sequence]' \\\n",
    "--input-path $rbcl_rdo_db \\\n",
    "--output-path ./classifier/rbcl_loc_rdo_site.qza\n",
    "\n",
    "!qiime tools import \\\n",
    "--type 'FeatureData[Taxonomy]' \\\n",
    "--input-format HeaderlessTSVTaxonomyFormat \\\n",
    "--input-path $rbcl_rdo_mapping \\\n",
    "--output-path ./classifier/rbcL_taxonomy_loc_rdo_site.qza"
   ]
  },
  {
   "cell_type": "code",
   "execution_count": null,
   "metadata": {},
   "outputs": [],
   "source": [
    "# fit classifier\n",
    "!qiime feature-classifier fit-classifier-naive-bayes \\\n",
    "--i-reference-reads ./classifier/rbcl_loc_rdo_site.qza \\\n",
    "--i-reference-taxonomy ./classifier/rbcL_taxonomy_loc_rdo_site.qza \\\n",
    "--o-classifier ./classifier/classifier_rbcL_loc_rdo.qza"
   ]
  },
  {
   "cell_type": "code",
   "execution_count": null,
   "metadata": {},
   "outputs": [],
   "source": [
    "# assign taxonomy\n",
    "!qiime feature-classifier classify-sklearn \\\n",
    "--i-classifier ./classifier/classifier_rbcL_loc_rdo.qza \\\n",
    "--i-reads rep_seq_rdo_rbcl.qza \\\n",
    "--o-classification ./taxonomy/taxonomy_rbcL_loc_rdo.qza"
   ]
  },
  {
   "cell_type": "code",
   "execution_count": null,
   "metadata": {},
   "outputs": [],
   "source": [
    "# tabulate taxonomy assignment\n",
    "!qiime metadata tabulate \\\n",
    "--m-input-file taxonomy/taxonomy_rbcL_loc_rdo.qza \\\n",
    "--o-visualization taxonomy/taxonomy_rbcL_loc_rdo.qzv"
   ]
  },
  {
   "cell_type": "code",
   "execution_count": null,
   "metadata": {},
   "outputs": [],
   "source": [
    "# visualize taxonomy composition\n",
    "!qiime taxa barplot \\\n",
    "--i-table filtered_table.qza \\\n",
    "--i-taxonomy taxonomy/taxonomy_rbcL_loc_rdo.qza \\\n",
    "--m-metadata-file $metafile \\\n",
    "--o-visualization taxonomy/barplot_rbcL_loc_rdo.qzv"
   ]
  },
  {
   "cell_type": "markdown",
   "metadata": {},
   "source": [
    "## rbcL analysis (single end)"
   ]
  },
  {
   "cell_type": "code",
   "execution_count": null,
   "metadata": {},
   "outputs": [],
   "source": [
    "os.chdir(path_rbcL_single)"
   ]
  },
  {
   "cell_type": "code",
   "execution_count": null,
   "metadata": {},
   "outputs": [],
   "source": [
    "subpaths = []\n",
    "\n",
    "for i in os.listdir(rbcL_reads_local):\n",
    "    if i in [\"ZUM\", \"Star\", \"RDO\"]:\n",
    "        if not os.path.exists(i):\n",
    "            os.makedirs(i)\n",
    "        subpaths.append(os.path.abspath(i))"
   ]
  },
  {
   "cell_type": "markdown",
   "metadata": {},
   "source": [
    "### Zumwalt"
   ]
  },
  {
   "cell_type": "code",
   "execution_count": null,
   "metadata": {},
   "outputs": [],
   "source": [
    "# change directory\n",
    "os.chdir(subpaths[0])"
   ]
  },
  {
   "cell_type": "code",
   "execution_count": null,
   "metadata": {},
   "outputs": [],
   "source": [
    "# os.getcwd()"
   ]
  },
  {
   "cell_type": "code",
   "execution_count": null,
   "metadata": {},
   "outputs": [],
   "source": [
    "# generate manifest file for qiime2\n",
    "manifest_zum = metaBar.metaBar_Qiime2_Manifest(os.path.join(rbcL_reads_local, \"ZUM\"), platesetup, sheetname=0, matchby=\"sample\", paired=False)\n",
    "\n",
    "!mv ITSS2F@ITS4R_manifest.csv zum_rbcl_manifest.csv"
   ]
  },
  {
   "cell_type": "code",
   "execution_count": null,
   "metadata": {},
   "outputs": [],
   "source": [
    "# import reads into qiime2, using single end\n",
    "\n",
    "!qiime tools import \\\n",
    "--type 'SampleData[SequencesWithQuality]' \\\n",
    "--input-path ./zum_rbcl_manifest.csv \\\n",
    "--output-path zum_rbcl.qza \\\n",
    "--input-format SingleEndFastqManifestPhred33"
   ]
  },
  {
   "cell_type": "code",
   "execution_count": null,
   "metadata": {},
   "outputs": [],
   "source": [
    "# view summarise of the quality\n",
    "!qiime demux summarize \\\n",
    "--i-data zum_rbcl.qza \\\n",
    "--o-visualization zum_rbcl_seq.qzv"
   ]
  },
  {
   "cell_type": "code",
   "execution_count": null,
   "metadata": {},
   "outputs": [],
   "source": [
    "# dada2 denosing\n",
    "\n",
    "!qiime dada2 denoise-single \\\n",
    "--i-demultiplexed-seqs zum_rbcl.qza \\\n",
    "--output-dir dada2 \\\n",
    "--o-table table-zum.qza \\\n",
    "--o-representative-sequences rep_zum \\\n",
    "--p-trim-left $rbcL_f_len \\\n",
    "--p-trunc-len 299 \\\n",
    "--p-n-threads 12"
   ]
  },
  {
   "cell_type": "code",
   "execution_count": null,
   "metadata": {},
   "outputs": [],
   "source": [
    "# filter OTU table\n",
    "\n",
    "!qiime feature-table filter-features \\\n",
    "--i-table table-zum.qza \\\n",
    "--p-min-frequency 1000 \\\n",
    "--p-min-samples 4 \\\n",
    "--o-filtered-table filtered_table.qza"
   ]
  },
  {
   "cell_type": "code",
   "execution_count": null,
   "metadata": {},
   "outputs": [],
   "source": [
    "if not os.path.exists(\"classifier\"):\n",
    "    os.makedirs(\"classifier\")\n",
    "\n",
    "if not os.path.exists(\"taxonomy\"):\n",
    "    os.makedirs(\"taxonomy\")"
   ]
  },
  {
   "cell_type": "code",
   "execution_count": null,
   "metadata": {},
   "outputs": [],
   "source": [
    "# import ref database\n",
    "\n",
    "!qiime tools import \\\n",
    "--type 'FeatureData[Sequence]' \\\n",
    "--input-path $rbcl_zum_db \\\n",
    "--output-path ./classifier/rbcL_loc_zum_site.qza\n",
    "\n",
    "!qiime tools import \\\n",
    "--type 'FeatureData[Taxonomy]' \\\n",
    "--input-format HeaderlessTSVTaxonomyFormat \\\n",
    "--input-path $rbcl_zum_mapping \\\n",
    "--output-path ./classifier/rbcL_taxonomy_loc_zum_site.qza"
   ]
  },
  {
   "cell_type": "code",
   "execution_count": null,
   "metadata": {},
   "outputs": [],
   "source": [
    "# fit classifier\n",
    "\n",
    "!qiime feature-classifier fit-classifier-naive-bayes \\\n",
    "--i-reference-reads ./classifier/rbcL_loc_zum_site.qza \\\n",
    "--i-reference-taxonomy ./classifier/rbcL_taxonomy_loc_zum_site.qza \\\n",
    "--o-classifier ./classifier/classifier_rbcL_loc_zum.qza"
   ]
  },
  {
   "cell_type": "code",
   "execution_count": null,
   "metadata": {},
   "outputs": [],
   "source": [
    "# assign taxonomy\n",
    "\n",
    "!qiime feature-classifier classify-sklearn \\\n",
    "--i-classifier ./classifier/classifier_rbcL_loc_zum.qza \\\n",
    "--i-reads rep_zum.qza \\\n",
    "--o-classification ./taxonomy/taxonomy_rbcL_loc_zum.qza"
   ]
  },
  {
   "cell_type": "code",
   "execution_count": null,
   "metadata": {},
   "outputs": [],
   "source": [
    "# tabulate taxonomy assignment\n",
    "\n",
    "!qiime metadata tabulate \\\n",
    "--m-input-file taxonomy/taxonomy_rbcL_loc_zum.qza \\\n",
    "--o-visualization taxonomy/taxonomy_rbcL_loc_zum.qzv"
   ]
  },
  {
   "cell_type": "code",
   "execution_count": null,
   "metadata": {},
   "outputs": [],
   "source": [
    "# visualize taxonomy composition\n",
    "\n",
    "!qiime taxa barplot \\\n",
    "--i-table filtered_table.qza \\\n",
    "--i-taxonomy taxonomy/taxonomy_rbcL_loc_zum.qza \\\n",
    "--m-metadata-file $metafile \\\n",
    "--o-visualization taxonomy/barplot_rbcL_loc_zum.qzv"
   ]
  },
  {
   "cell_type": "markdown",
   "metadata": {},
   "source": [
    "### Starkey"
   ]
  },
  {
   "cell_type": "code",
   "execution_count": null,
   "metadata": {},
   "outputs": [],
   "source": [
    "os.chdir(subpaths[1])"
   ]
  },
  {
   "cell_type": "code",
   "execution_count": null,
   "metadata": {},
   "outputs": [],
   "source": [
    "# generate manifest file\n",
    "\n",
    "manifest_star = metaBar.metaBar_Qiime2_Manifest(os.path.join(rbcL_reads_local, \"Star\"), platesetup, sheetname=0, matchby=\"sample\", paired=False)\n",
    "\n",
    "!mv ITSS2F@ITS4R_manifest.csv star_rbcl_manifest.csv"
   ]
  },
  {
   "cell_type": "code",
   "execution_count": null,
   "metadata": {},
   "outputs": [],
   "source": [
    "# import reads\n",
    "\n",
    "!qiime tools import \\\n",
    "--type 'SampleData[SequencesWithQuality]' \\\n",
    "--input-path ./star_rbcl_manifest.csv \\\n",
    "--output-path star_rbcl.qza \\\n",
    "--input-format SingleEndFastqManifestPhred33"
   ]
  },
  {
   "cell_type": "code",
   "execution_count": null,
   "metadata": {},
   "outputs": [],
   "source": [
    "# view summarise of the quality\n",
    "\n",
    "!qiime demux summarize \\\n",
    "--i-data star_rbcl.qza \\\n",
    "--o-visualization star_rbcl_seq.qzv"
   ]
  },
  {
   "cell_type": "code",
   "execution_count": null,
   "metadata": {},
   "outputs": [],
   "source": [
    "# dada2 denoising\n",
    "\n",
    "!qiime dada2 denoise-single \\\n",
    "--i-demultiplexed-seqs star_rbcl.qza \\\n",
    "--output-dir dada2 \\\n",
    "--o-table table-star.qza \\\n",
    "--o-representative-sequences rep_star \\\n",
    "--p-trim-left $rbcL_f_len \\\n",
    "--p-trunc-len 299 \\\n",
    "--p-n-threads 12"
   ]
  },
  {
   "cell_type": "code",
   "execution_count": null,
   "metadata": {},
   "outputs": [],
   "source": [
    "# filtering OTU features\n",
    "\n",
    "!qiime feature-table filter-features \\\n",
    "--i-table table-star.qza \\\n",
    "--p-min-frequency 1000 \\\n",
    "--p-min-samples 4 \\\n",
    "--o-filtered-table filtered_table.qza"
   ]
  },
  {
   "cell_type": "code",
   "execution_count": null,
   "metadata": {},
   "outputs": [],
   "source": [
    "if not os.path.exists(\"taxonomy\"):\n",
    "    os.makedirs(\"taxonomy\")\n",
    "    \n",
    "if not os.path.exists(\"classifier\"):\n",
    "    os.makedirs(\"classifier\")"
   ]
  },
  {
   "cell_type": "code",
   "execution_count": null,
   "metadata": {},
   "outputs": [],
   "source": [
    "# import ref database\n",
    "!qiime tools import \\\n",
    "--type 'FeatureData[Sequence]' \\\n",
    "--input-path $rbcl_starkey_db \\\n",
    "--output-path ./classifier/rbcl_loc_starkey_site.qza\n",
    "\n",
    "!qiime tools import \\\n",
    "--type 'FeatureData[Taxonomy]' \\\n",
    "--input-format HeaderlessTSVTaxonomyFormat \\\n",
    "--input-path $rbcl_starkey_mapping \\\n",
    "--output-path ./classifier/rbcL_taxonomy_loc_starkey_site.qza"
   ]
  },
  {
   "cell_type": "code",
   "execution_count": null,
   "metadata": {},
   "outputs": [],
   "source": [
    "# fit classifier\n",
    "\n",
    "!qiime feature-classifier fit-classifier-naive-bayes \\\n",
    "--i-reference-reads ./classifier/rbcl_loc_starkey_site.qza \\\n",
    "--i-reference-taxonomy ./classifier/rbcL_taxonomy_loc_starkey_site.qza \\\n",
    "--o-classifier ./classifier/classifier_rbcL_loc_star.qza"
   ]
  },
  {
   "cell_type": "code",
   "execution_count": null,
   "metadata": {},
   "outputs": [],
   "source": [
    "# assign taxonomy\n",
    "\n",
    "!qiime feature-classifier classify-sklearn \\\n",
    "--i-classifier ./classifier/classifier_rbcL_loc_star.qza \\\n",
    "--i-reads rep_star.qza \\\n",
    "--o-classification ./taxonomy/taxonomy_rbcL_loc_star.qza\n"
   ]
  },
  {
   "cell_type": "code",
   "execution_count": null,
   "metadata": {},
   "outputs": [],
   "source": [
    "# tabulate taxonomy assignment\n",
    "\n",
    "!qiime metadata tabulate \\\n",
    "--m-input-file taxonomy/taxonomy_rbcL_loc_star.qza \\\n",
    "--o-visualization taxonomy/taxonomy_rbcL_loc_star.qzv"
   ]
  },
  {
   "cell_type": "code",
   "execution_count": null,
   "metadata": {},
   "outputs": [],
   "source": [
    "# visualize taxonomy composition\n",
    "\n",
    "!qiime taxa barplot \\\n",
    "--i-table filtered_table.qza \\\n",
    "--i-taxonomy taxonomy/taxonomy_rbcL_loc_star.qza \\\n",
    "--m-metadata-file $metafile \\\n",
    "--o-visualization taxonomy/barplot_rbcL_loc_star.qzv"
   ]
  },
  {
   "cell_type": "markdown",
   "metadata": {},
   "source": [
    "### Threemile farm"
   ]
  },
  {
   "cell_type": "code",
   "execution_count": null,
   "metadata": {},
   "outputs": [],
   "source": [
    "# change directory to RDO\n",
    "os.chdir(subpaths[2])"
   ]
  },
  {
   "cell_type": "code",
   "execution_count": null,
   "metadata": {},
   "outputs": [],
   "source": [
    "# generate manifest file for qiime2\n",
    "\n",
    "manifest_rdo = metaBar.metaBar_Qiime2_Manifest(os.path.join(rbcL_reads_local, \"RDO\"), platesetup, sheetname=0, matchby=\"sample\", paired=False)\n",
    "\n",
    "!mv ITSS2F@ITS4R_manifest.csv rdo_rbcl_manifest.csv"
   ]
  },
  {
   "cell_type": "code",
   "execution_count": null,
   "metadata": {},
   "outputs": [],
   "source": [
    "!qiime tools import \\\n",
    "--type 'SampleData[SequencesWithQuality]' \\\n",
    "--input-path ./rdo_rbcl_manifest.csv \\\n",
    "--output-path rdo_rbcl.qza \\\n",
    "--input-format SingleEndFastqManifestPhred33"
   ]
  },
  {
   "cell_type": "code",
   "execution_count": null,
   "metadata": {},
   "outputs": [],
   "source": [
    "# view summarise of the quality\n",
    "!qiime demux summarize \\\n",
    "--i-data rdo_rbcl.qza \\\n",
    "--o-visualization rdo_rbcl_seq.qzv"
   ]
  },
  {
   "cell_type": "code",
   "execution_count": null,
   "metadata": {},
   "outputs": [],
   "source": [
    "# dada2 denoising\n",
    "\n",
    "!qiime dada2 denoise-single \\\n",
    "--i-demultiplexed-seqs rdo_rbcl.qza \\\n",
    "--output-dir dada2 \\\n",
    "--o-table table-rdo.qza \\\n",
    "--o-representative-sequences rep_rdo \\\n",
    "--p-trim-left $rbcL_f_len \\\n",
    "--p-trunc-len 299 \\\n",
    "--p-n-threads 12"
   ]
  },
  {
   "cell_type": "code",
   "execution_count": null,
   "metadata": {},
   "outputs": [],
   "source": [
    "# filtering OTU feature table\n",
    "\n",
    "!qiime feature-table filter-features \\\n",
    "--i-table table-rdo.qza \\\n",
    "--p-min-frequency 1000 \\\n",
    "--p-min-samples 4 \\\n",
    "--o-filtered-table filtered_table.qza"
   ]
  },
  {
   "cell_type": "code",
   "execution_count": null,
   "metadata": {},
   "outputs": [],
   "source": [
    "if not os.path.exists(\"taxonomy\"):\n",
    "    os.makedirs(\"taxonomy\")\n",
    "    \n",
    "if not os.path.exists(\"classifier\"):\n",
    "    os.makedirs(\"classifier\")"
   ]
  },
  {
   "cell_type": "code",
   "execution_count": null,
   "metadata": {},
   "outputs": [],
   "source": [
    "# import ref database\n",
    "\n",
    "!qiime tools import \\\n",
    "--type 'FeatureData[Sequence]' \\\n",
    "--input-path $rbcl_rdo_db \\\n",
    "--output-path ./classifier/rbcl_loc_rdo_site.qza\n",
    "\n",
    "!qiime tools import \\\n",
    "--type 'FeatureData[Taxonomy]' \\\n",
    "--input-format HeaderlessTSVTaxonomyFormat \\\n",
    "--input-path $rbcl_rdo_mapping \\\n",
    "--output-path ./classifier/rbcL_taxonomy_loc_rdo_site.qza"
   ]
  },
  {
   "cell_type": "code",
   "execution_count": null,
   "metadata": {},
   "outputs": [],
   "source": [
    "# fit classifier\n",
    "\n",
    "!qiime feature-classifier fit-classifier-naive-bayes \\\n",
    "--i-reference-reads ./classifier/rbcl_loc_rdo_site.qza \\\n",
    "--i-reference-taxonomy ./classifier/rbcL_taxonomy_loc_rdo_site.qza \\\n",
    "--o-classifier ./classifier/classifier_rbcL_loc_rdo.qza"
   ]
  },
  {
   "cell_type": "code",
   "execution_count": null,
   "metadata": {},
   "outputs": [],
   "source": [
    "# assign taxonomy\n",
    "\n",
    "!qiime feature-classifier classify-sklearn \\\n",
    "--i-classifier ./classifier/classifier_rbcL_loc_rdo.qza \\\n",
    "--i-reads rep_rdo.qza \\\n",
    "--o-classification ./taxonomy/taxonomy_rbcL_loc_rdo.qza"
   ]
  },
  {
   "cell_type": "code",
   "execution_count": null,
   "metadata": {},
   "outputs": [],
   "source": [
    "# tabulate taxonomy assignment\n",
    "\n",
    "!qiime metadata tabulate \\\n",
    "--m-input-file taxonomy/taxonomy_rbcL_loc_rdo.qza \\\n",
    "--o-visualization taxonomy/taxonomy_rbcL_loc_rdo.qzv"
   ]
  },
  {
   "cell_type": "code",
   "execution_count": null,
   "metadata": {},
   "outputs": [],
   "source": [
    "# visualize taxonomy composition\n",
    "\n",
    "!qiime taxa barplot \\\n",
    "--i-table filtered_table.qza \\\n",
    "--i-taxonomy taxonomy/taxonomy_rbcL_loc_rdo.qza \\\n",
    "--m-metadata-file $metafile \\\n",
    "--o-visualization taxonomy/barplot_rbcL_loc_rdo.qzv"
   ]
  },
  {
   "cell_type": "code",
   "execution_count": null,
   "metadata": {},
   "outputs": [],
   "source": []
  }
 ],
 "metadata": {
  "kernelspec": {
   "display_name": "Python 3",
   "language": "python",
   "name": "python3"
  },
  "language_info": {
   "codemirror_mode": {
    "name": "ipython",
    "version": 3
   },
   "file_extension": ".py",
   "mimetype": "text/x-python",
   "name": "python",
   "nbconvert_exporter": "python",
   "pygments_lexer": "ipython3",
   "version": "3.6.7"
  }
 },
 "nbformat": 4,
 "nbformat_minor": 2
}
