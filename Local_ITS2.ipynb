{
 "cells": [
  {
   "cell_type": "markdown",
   "metadata": {},
   "source": [
    "# Pipeline for analyzing local data (ITS2)\n",
    "\n",
    "Arstingstall, K.A., S.J. DeBano, X. Li, D.E. Wooster, M.M. Rowland, S. Burrows, & K. Frost; 2020; DNA metabarcoding of native bee pollen loads"
   ]
  },
  {
   "cell_type": "code",
   "execution_count": null,
   "metadata": {},
   "outputs": [],
   "source": [
    "import os\n",
    "from metaBarTools import metaBar_PreX"
   ]
  },
  {
   "cell_type": "code",
   "execution_count": null,
   "metadata": {},
   "outputs": [],
   "source": [
    "!qiime --version #version 2020.11.1"
   ]
  },
  {
   "cell_type": "code",
   "execution_count": null,
   "metadata": {},
   "outputs": [],
   "source": [
    "metaBar = metaBar_PreX()"
   ]
  },
  {
   "cell_type": "code",
   "execution_count": null,
   "metadata": {},
   "outputs": [],
   "source": [
    "# metafile and platesetup file\n",
    "metafile = os.path.abspath(\"./meta_beepollen_all.csv\")\n",
    "platesetup = os.path.abspath(\"./beepollen_all.xlsx\")\n",
    "\n",
    "# reads\n",
    "ITS_reads_local = os.path.abspath(\"./Local_reads/ITS_reads_local/reads_copy_by_location/\")"
   ]
  },
  {
   "cell_type": "code",
   "execution_count": null,
   "metadata": {},
   "outputs": [],
   "source": [
    "ITS_f_len = len(\"ATGCGATACTTGGTGTGAAT\")\n",
    "ITS_r_len = len(\"TCCTCCGCTTATTGATATGC\")"
   ]
  },
  {
   "cell_type": "code",
   "execution_count": null,
   "metadata": {},
   "outputs": [],
   "source": [
    "path_ITS = metaBar.metaBar_makeSubDir(\"Local_Results\", [\"ITS_result\"])"
   ]
  },
  {
   "cell_type": "code",
   "execution_count": null,
   "metadata": {},
   "outputs": [],
   "source": [
    "path_ITS"
   ]
  },
  {
   "cell_type": "code",
   "execution_count": null,
   "metadata": {},
   "outputs": [],
   "source": [
    "# classifiers noncurated\n",
    "# use updated classifiers non curated\n",
    "ncrt_starky_classifier = os.path.abspath(\"./classifiers_updated/ITS2/classifiers/local/starky_ITS2_noncurated_classifier.qza\")\n",
    "\n",
    "ncrt_3m_classifier = os.path.abspath(\"./classifiers_updated/ITS2/classifiers/local/threemile_ITS2_noncurated_classifier.qza\")\n",
    "\n",
    "ncrt_zum_classifier = os.path.abspath(\"./classifiers_updated/ITS2/classifiers/local/zum_ITS2_noncurated_classifier.qza\")\n"
   ]
  },
  {
   "cell_type": "markdown",
   "metadata": {},
   "source": [
    "## Analyze ITS local data (with local ITS database)"
   ]
  },
  {
   "cell_type": "code",
   "execution_count": null,
   "metadata": {},
   "outputs": [],
   "source": [
    "# change working directory to ITS_result\n",
    "os.chdir(path_ITS[0])"
   ]
  },
  {
   "cell_type": "code",
   "execution_count": null,
   "metadata": {},
   "outputs": [],
   "source": [
    "# make sub folders for each location\n",
    "\n",
    "subpaths = []\n",
    "\n",
    "for i in os.listdir(ITS_reads_local):\n",
    "    if i in [\"ZUM\", \"Star\", \"RDO\"]:\n",
    "        if not os.path.exists(i):\n",
    "            os.makedirs(i)\n",
    "            \n",
    "        subpaths.append(os.path.abspath(i))"
   ]
  },
  {
   "cell_type": "code",
   "execution_count": null,
   "metadata": {},
   "outputs": [],
   "source": [
    "subpaths"
   ]
  },
  {
   "cell_type": "markdown",
   "metadata": {},
   "source": [
    "## ZUM"
   ]
  },
  {
   "cell_type": "code",
   "execution_count": null,
   "metadata": {},
   "outputs": [],
   "source": [
    "os.chdir(subpaths[0])\n",
    "print(os.getcwd())"
   ]
  },
  {
   "cell_type": "code",
   "execution_count": null,
   "metadata": {},
   "outputs": [],
   "source": [
    "# make manifest file\n",
    "manifest_zum = metaBar.metaBar_Qiime2_Manifest(os.path.join(ITS_reads_local, \"ZUM\"), platesetup, sheetname=0, matchby=\"sample\")"
   ]
  },
  {
   "cell_type": "code",
   "execution_count": null,
   "metadata": {},
   "outputs": [],
   "source": [
    "!mv ITSS2F@ITS4R_manifest.csv zum_its_manifest.csv"
   ]
  },
  {
   "cell_type": "code",
   "execution_count": null,
   "metadata": {},
   "outputs": [],
   "source": [
    "# load reads into qiime2\n",
    "\n",
    "!qiime tools import \\\n",
    "--type 'SampleData[PairedEndSequencesWithQuality]' \\\n",
    "--input-path ./zum_its_manifest.csv \\\n",
    "--output-path zum_its.qza \\\n",
    "--input-format PairedEndFastqManifestPhred33"
   ]
  },
  {
   "cell_type": "code",
   "execution_count": null,
   "metadata": {},
   "outputs": [],
   "source": [
    "# view summarise of the quality\n",
    "!qiime demux summarize \\\n",
    "--i-data zum_its.qza \\\n",
    "--o-visualization zum_its_seq.qzv"
   ]
  },
  {
   "cell_type": "code",
   "execution_count": null,
   "metadata": {},
   "outputs": [],
   "source": [
    "if not os.path.exists(\"dada2-stats\"):\n",
    "    os.makedirs(\"dada2-stats\")\n",
    "    \n",
    "if not os.path.exists(\"feature-tables\"):\n",
    "    os.makedirs(\"feature-tables\")"
   ]
  },
  {
   "cell_type": "code",
   "execution_count": null,
   "metadata": {},
   "outputs": [],
   "source": [
    "# dada2 denosing and quality score 25\n",
    "# f 299\n",
    "# r 258\n",
    "\n",
    "!qiime dada2 denoise-paired \\\n",
    "--i-demultiplexed-seqs zum_its.qza \\\n",
    "--output-dir dada2 \\\n",
    "--o-table feature-tables/table-zum \\\n",
    "--o-representative-sequences rep_seq_zum \\\n",
    "--p-trim-left-f $ITS_f_len \\\n",
    "--p-trim-left-r $ITS_r_len \\\n",
    "--p-trunc-len-f 299 \\\n",
    "--p-trunc-len-r 258 \\\n",
    "--o-denoising-stats dada2-stats/dada2_stats.qza \\\n",
    "--p-n-threads 12 "
   ]
  },
  {
   "cell_type": "code",
   "execution_count": null,
   "metadata": {},
   "outputs": [],
   "source": [
    "# visualize the dada2 stats\n",
    "\n",
    "!qiime metadata tabulate \\\n",
    "--m-input-file dada2-stats/dada2_stats.qza \\\n",
    "--o-visualization dada2-stats/dada2_stats.qzv"
   ]
  },
  {
   "cell_type": "code",
   "execution_count": null,
   "metadata": {},
   "outputs": [],
   "source": [
    "# visualize the feature table (OTU table)\n",
    "\n",
    "!qiime feature-table summarize \\\n",
    "--i-table feature-tables/table-zum.qza \\\n",
    "--o-visualization feature-tables/table-zum.qzv \\\n",
    "--m-sample-metadata-file $metafile"
   ]
  },
  {
   "cell_type": "code",
   "execution_count": null,
   "metadata": {},
   "outputs": [],
   "source": [
    "if not os.path.exists(\"taxonomy_updated\"):\n",
    "    os.makedirs(\"taxonomy_updated\")"
   ]
  },
  {
   "cell_type": "code",
   "execution_count": null,
   "metadata": {},
   "outputs": [],
   "source": [
    "# assign taxonomy - noncurated\n",
    "!qiime feature-classifier classify-sklearn \\\n",
    "--i-classifier $ncrt_zum_classifier \\\n",
    "--i-reads rep_seq_zum.qza \\\n",
    "--o-classification ./taxonomy_updated/taxonomy_updated_noncurated_zum_ITS.qza\n",
    "\n",
    "# making relative taxonomy barplot\n",
    "!qiime taxa barplot \\\n",
    "--i-table feature-tables/table-zum.qza \\\n",
    "--i-taxonomy taxonomy_updated/taxonomy_updated_noncurated_zum_ITS.qza \\\n",
    "--m-metadata-file $metafile \\\n",
    "--o-visualization taxonomy_updated/barplot_updated_ZUM_noncurated_ITS2.qzv"
   ]
  },
  {
   "cell_type": "markdown",
   "metadata": {},
   "source": [
    "## Starky"
   ]
  },
  {
   "cell_type": "code",
   "execution_count": null,
   "metadata": {},
   "outputs": [],
   "source": [
    "os.chdir(subpaths[1])\n",
    "print(os.getcwd())"
   ]
  },
  {
   "cell_type": "code",
   "execution_count": null,
   "metadata": {},
   "outputs": [],
   "source": [
    "# make manifest file\n",
    "manifest_star = metaBar.metaBar_Qiime2_Manifest(os.path.join(ITS_reads_local, \"Star\"), platesetup, sheetname=0, matchby=\"sample\")"
   ]
  },
  {
   "cell_type": "code",
   "execution_count": null,
   "metadata": {},
   "outputs": [],
   "source": [
    "!mv ITSS2F@ITS4R_manifest.csv star_its_manifest.csv"
   ]
  },
  {
   "cell_type": "code",
   "execution_count": null,
   "metadata": {},
   "outputs": [],
   "source": [
    "# load reads into qiime2\n",
    "\n",
    "!qiime tools import \\\n",
    "--type 'SampleData[PairedEndSequencesWithQuality]' \\\n",
    "--input-path ./star_its_manifest.csv \\\n",
    "--output-path star_its.qza \\\n",
    "--input-format PairedEndFastqManifestPhred33"
   ]
  },
  {
   "cell_type": "code",
   "execution_count": null,
   "metadata": {},
   "outputs": [],
   "source": [
    "# view summarise of the quality\n",
    "!qiime demux summarize \\\n",
    "--i-data star_its.qza \\\n",
    "--o-visualization star_its_seq.qzv"
   ]
  },
  {
   "cell_type": "code",
   "execution_count": null,
   "metadata": {},
   "outputs": [],
   "source": [
    "if not os.path.exists(\"dada2-stats\"):\n",
    "    os.makedirs(\"dada2-stats\")\n",
    "    \n",
    "if not os.path.exists(\"feature-tables\"):\n",
    "    os.makedirs(\"feature-tables\")"
   ]
  },
  {
   "cell_type": "code",
   "execution_count": null,
   "metadata": {},
   "outputs": [],
   "source": [
    "# dada2 denosing and quality score 25\n",
    "# f 300\n",
    "# r 253\n",
    "\n",
    "!qiime dada2 denoise-paired \\\n",
    "--i-demultiplexed-seqs star_its.qza \\\n",
    "--output-dir dada2 \\\n",
    "--o-table feature-tables/table-star \\\n",
    "--o-representative-sequences rep_seq_star \\\n",
    "--p-trim-left-f $ITS_f_len \\\n",
    "--p-trim-left-r $ITS_r_len \\\n",
    "--p-trunc-len-f 300 \\\n",
    "--p-trunc-len-r 249 \\\n",
    "--o-denoising-stats dada2-stats/dada2_stats.qza \\\n",
    "--p-n-threads 25"
   ]
  },
  {
   "cell_type": "code",
   "execution_count": null,
   "metadata": {},
   "outputs": [],
   "source": [
    "# visualize the dada2 stats\n",
    "!qiime metadata tabulate \\\n",
    "--m-input-file dada2-stats/dada2_stats.qza \\\n",
    "--o-visualization dada2-stats/dada2_stats.qzv"
   ]
  },
  {
   "cell_type": "code",
   "execution_count": null,
   "metadata": {},
   "outputs": [],
   "source": [
    "# visualize the feature table (OTU table)\n",
    "\n",
    "!qiime feature-table summarize \\\n",
    "--i-table feature-tables/table-star.qza \\\n",
    "--o-visualization feature-tables/table-star.qzv \\\n",
    "--m-sample-metadata-file $metafile"
   ]
  },
  {
   "cell_type": "code",
   "execution_count": null,
   "metadata": {},
   "outputs": [],
   "source": [
    "if not os.path.exists(\"taxonomy_update\"):\n",
    "    os.makedirs(\"taxonomy_update\")"
   ]
  },
  {
   "cell_type": "code",
   "execution_count": null,
   "metadata": {},
   "outputs": [],
   "source": [
    "# assign taxonomy - noncurated\n",
    "!qiime feature-classifier classify-sklearn \\\n",
    "--i-classifier $ncrt_starky_classifier \\\n",
    "--i-reads rep_seq_star.qza \\\n",
    "--o-classification ./taxonomy_update/taxonomy_update_noncurated_star_ITS.qza\n",
    "\n",
    "# making relative taxonomy barplot\n",
    "!qiime taxa barplot \\\n",
    "--i-table feature-tables/table-star.qza \\\n",
    "--i-taxonomy taxonomy_update/taxonomy_update_noncurated_star_ITS.qza \\\n",
    "--m-metadata-file $metafile \\\n",
    "--o-visualization taxonomy_update/barplot_update_star_noncurated_ITS2.qzv"
   ]
  },
  {
   "cell_type": "markdown",
   "metadata": {},
   "source": [
    "## RDO"
   ]
  },
  {
   "cell_type": "code",
   "execution_count": null,
   "metadata": {},
   "outputs": [],
   "source": [
    "os.chdir(subpaths[2])\n",
    "print(os.getcwd())"
   ]
  },
  {
   "cell_type": "code",
   "execution_count": null,
   "metadata": {},
   "outputs": [],
   "source": [
    "# make manifest file\n",
    "manifest_star = metaBar.metaBar_Qiime2_Manifest(os.path.join(ITS_reads_local, \"RDO\"), platesetup, sheetname=0, matchby=\"sample\")\n",
    "\n",
    "!mv ITSS2F@ITS4R_manifest.csv rdo_its_manifest.csv"
   ]
  },
  {
   "cell_type": "code",
   "execution_count": null,
   "metadata": {},
   "outputs": [],
   "source": [
    "# load reads into qiime2\n",
    "!qiime tools import \\\n",
    "--type 'SampleData[PairedEndSequencesWithQuality]' \\\n",
    "--input-path ./rdo_its_manifest.csv \\\n",
    "--output-path rdo_its.qza \\\n",
    "--input-format PairedEndFastqManifestPhred33"
   ]
  },
  {
   "cell_type": "code",
   "execution_count": null,
   "metadata": {},
   "outputs": [],
   "source": [
    "# view summarise of the quality\n",
    "!qiime demux summarize \\\n",
    "--i-data rdo_its.qza \\\n",
    "--o-visualization rdo_its_seq.qzv"
   ]
  },
  {
   "cell_type": "code",
   "execution_count": null,
   "metadata": {},
   "outputs": [],
   "source": [
    "if not os.path.exists(\"dada2-stats\"):\n",
    "    os.makedirs(\"dada2-stats\")\n",
    "    \n",
    "if not os.path.exists(\"feature-tables\"):\n",
    "    os.makedirs(\"feature-tables\")"
   ]
  },
  {
   "cell_type": "code",
   "execution_count": null,
   "metadata": {},
   "outputs": [],
   "source": [
    "# dada2 denosing and quality score 25\n",
    "# f 300\n",
    "# r 258\n",
    "\n",
    "!qiime dada2 denoise-paired \\\n",
    "--i-demultiplexed-seqs rdo_its.qza \\\n",
    "--output-dir dada2 \\\n",
    "--o-table feature-tables/table-rdo \\\n",
    "--o-representative-sequences rep_seq_rdo \\\n",
    "--p-trim-left-f $ITS_f_len \\\n",
    "--p-trim-left-r $ITS_r_len \\\n",
    "--p-trunc-len-f 300 \\\n",
    "--p-trunc-len-r 258 \\\n",
    "--o-denoising-stats dada2-stats/dada2_stats.qza \\\n",
    "--p-n-threads 25"
   ]
  },
  {
   "cell_type": "code",
   "execution_count": null,
   "metadata": {},
   "outputs": [],
   "source": [
    "# visualize the dada2 stats\n",
    "!qiime metadata tabulate \\\n",
    "--m-input-file dada2-stats/dada2_stats.qza \\\n",
    "--o-visualization dada2-stats/dada2_stats.qzv"
   ]
  },
  {
   "cell_type": "code",
   "execution_count": null,
   "metadata": {},
   "outputs": [],
   "source": [
    "# visualize the feature table (OTU table)\n",
    "\n",
    "!qiime feature-table summarize \\\n",
    "--i-table feature-tables/table-rdo.qza \\\n",
    "--o-visualization feature-tables/table-rdo.qzv \\\n",
    "--m-sample-metadata-file $metafile"
   ]
  },
  {
   "cell_type": "code",
   "execution_count": null,
   "metadata": {},
   "outputs": [],
   "source": [
    "if not os.path.exists(\"taxonomy_update\"):\n",
    "    os.makedirs(\"taxonomy_update\")"
   ]
  },
  {
   "cell_type": "code",
   "execution_count": null,
   "metadata": {},
   "outputs": [],
   "source": [
    "# assign taxonomy - noncurated\n",
    "!qiime feature-classifier classify-sklearn \\\n",
    "--i-classifier $ncrt_3m_classifier \\\n",
    "--i-reads rep_seq_rdo.qza \\\n",
    "--o-classification ./taxonomy_update/taxonomy_update_noncurated_rdo_ITS.qza"
   ]
  },
  {
   "cell_type": "code",
   "execution_count": null,
   "metadata": {},
   "outputs": [],
   "source": [
    "# making relative taxonomy barplot\n",
    "!qiime taxa barplot \\\n",
    "--i-table feature-tables/table-rdo.qza \\\n",
    "--i-taxonomy taxonomy_update/taxonomy_update_noncurated_rdo_ITS.qza \\\n",
    "--m-metadata-file $metafile \\\n",
    "--o-visualization taxonomy_update/barplot_update_rdo_noncurated_ITS2.qzv"
   ]
  }
 ],
 "metadata": {
  "kernelspec": {
   "display_name": "Python 3",
   "language": "python",
   "name": "python3"
  },
  "language_info": {
   "codemirror_mode": {
    "name": "ipython",
    "version": 3
   },
   "file_extension": ".py",
   "mimetype": "text/x-python",
   "name": "python",
   "nbconvert_exporter": "python",
   "pygments_lexer": "ipython3",
   "version": "3.7.9"
  }
 },
 "nbformat": 4,
 "nbformat_minor": 4
}
