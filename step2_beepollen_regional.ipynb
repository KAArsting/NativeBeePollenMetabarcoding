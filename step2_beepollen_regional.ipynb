{
 "cells": [
  {
   "cell_type": "markdown",
   "metadata": {},
   "source": [
    "# Pipeline for analyzing beepollen data (Regional database)\n",
    "\n",
    "Author: Xiaoping Li  \n",
    "Organization: Oregon State University Hermiston Agricultural Research and Extension Center"
   ]
  },
  {
   "cell_type": "markdown",
   "metadata": {},
   "source": [
    "##### Note: before you start analyzing, move 1. metaBarTools.py 2. meta file (.csv) 3. plate file (.xlsx) to your working directory."
   ]
  },
  {
   "cell_type": "code",
   "execution_count": 1,
   "metadata": {},
   "outputs": [],
   "source": [
    "import os\n",
    "from metaBarTools import metaBar_PreX"
   ]
  },
  {
   "cell_type": "code",
   "execution_count": 2,
   "metadata": {},
   "outputs": [],
   "source": [
    "metaBar = metaBar_PreX()"
   ]
  },
  {
   "cell_type": "code",
   "execution_count": 3,
   "metadata": {},
   "outputs": [],
   "source": [
    "# reads path\n",
    "ITS_reads = os.path.abspath(\"./Regional_reads/ITS-reads\")\n",
    "rbcL_reads = os.path.abspath(\"./Regional_reads/rbcL-reads/\")"
   ]
  },
  {
   "cell_type": "code",
   "execution_count": 4,
   "metadata": {},
   "outputs": [],
   "source": [
    "# setup path files\n",
    "\n",
    "platesetup = os.path.abspath('./beepollen_all.xlsx')\n",
    "metafile = os.path.abspath('./meta_beepollen_all.csv')"
   ]
  },
  {
   "cell_type": "code",
   "execution_count": 5,
   "metadata": {},
   "outputs": [
    {
     "name": "stdout",
     "output_type": "stream",
     "text": [
      "\n",
      "        ####################################################\n",
      "        #########          metaBar_makeSubDir     ##########\n",
      "        ####################################################\n",
      "        \n"
     ]
    }
   ],
   "source": [
    "# set up subdirectories for analysis\n",
    "path_ITS, path_rbcL_pair, path_rbcL_single = metaBar.metaBar_makeSubDir(\"Regional_Results\", [\"ITS_result\", \"rbcL_result\", \"rbcL_result_single\"])"
   ]
  },
  {
   "cell_type": "code",
   "execution_count": 6,
   "metadata": {},
   "outputs": [],
   "source": [
    "ITS_ref_seq = os.path.abspath(\"./database_beepollen/Regional/ITS2_Regional.fasta\")\n",
    "ITS_ref_mapping = os.path.abspath(\"./database_beepollen/Regional/ITS2_Regional.mapping\")\n",
    "rbcL_ref_seq = os.path.abspath(\"./database_beepollen/Regional/rbcL_Regional.fasta\")\n",
    "rbcL_ref_mapping = os.path.abspath(\"./database_beepollen/Regional/rbcL_Regional.mapping\")"
   ]
  },
  {
   "cell_type": "markdown",
   "metadata": {},
   "source": [
    "## With regional ITS2 database"
   ]
  },
  {
   "cell_type": "code",
   "execution_count": 7,
   "metadata": {},
   "outputs": [],
   "source": [
    "# change directory into Analysis_results/ITS_results\n",
    "os.chdir(path_ITS)"
   ]
  },
  {
   "cell_type": "code",
   "execution_count": null,
   "metadata": {},
   "outputs": [],
   "source": [
    "# get primers lengths for trimming in DADA2\n",
    "\n",
    "ITS_f_len = len(\"ATGCGATACTTGGTGTGAAT\")\n",
    "ITS_r_len = len(\"TCCTCCGCTTATTGATATGC\")"
   ]
  },
  {
   "cell_type": "code",
   "execution_count": null,
   "metadata": {},
   "outputs": [],
   "source": [
    "# create manifest file for qiime2 to find the reads\n",
    "manifest = metaBar.metaBar_Qiime2_Manifest(ITS_reads, platesetup, sheetname=0, matchby=\"sample\")"
   ]
  },
  {
   "cell_type": "code",
   "execution_count": null,
   "metadata": {},
   "outputs": [],
   "source": [
    "# change the name for the manifest file, so it is more readable \n",
    "!mv ITSS2F@ITS4R_manifest.csv beepollen_ITS2_manifest.csv"
   ]
  },
  {
   "cell_type": "code",
   "execution_count": null,
   "metadata": {},
   "outputs": [],
   "source": [
    "# import data\n",
    "\n",
    "!qiime tools import \\\n",
    "--type 'SampleData[PairedEndSequencesWithQuality]' \\\n",
    "--input-path ./beepollen_ITS2_manifest.csv \\\n",
    "--output-path beepollen.qza \\\n",
    "--input-format PairedEndFastqManifestPhred33"
   ]
  },
  {
   "cell_type": "code",
   "execution_count": null,
   "metadata": {},
   "outputs": [],
   "source": [
    "# make folders to store dada2 and feature-table results\n",
    "\n",
    "if not os.path.exists(\"dada2-stats\"):\n",
    "    os.makedirs(\"dada2-stats\")\n",
    "    \n",
    "if not os.path.exists(\"feature-tables\"):\n",
    "    os.makedirs(\"feature-tables\")"
   ]
  },
  {
   "cell_type": "code",
   "execution_count": null,
   "metadata": {},
   "outputs": [],
   "source": [
    "# run dada2 for denoising, set truncating quality cutoff at 22\n",
    "\n",
    "!!qiime dada2 denoise-paired \\\n",
    "--i-demultiplexed-seqs beepollen.qza \\\n",
    "--output-dir dada2 \\\n",
    "--o-table feature-tables/table-beepollen \\\n",
    "--o-representative-sequences rep_seq_beepollen \\\n",
    "--p-trim-left-f $ITS_f_len \\\n",
    "--p-trim-left-r $ITS_r_len \\\n",
    "--p-trunc-len-f 299 \\\n",
    "--p-trunc-len-r 243 \\\n",
    "--p-n-threads 12 \\\n",
    "--o-denoising-stats dada2-stats/dada2_stats.qza"
   ]
  },
  {
   "cell_type": "code",
   "execution_count": null,
   "metadata": {},
   "outputs": [],
   "source": [
    "# visualize the dada2 stats\n",
    "\n",
    "!qiime metadata tabulate \\\n",
    "--m-input-file dada2-stats/dada2_stats.qza \\\n",
    "--o-visualization dada2-stats/dada2_stats.qzv"
   ]
  },
  {
   "cell_type": "code",
   "execution_count": null,
   "metadata": {},
   "outputs": [],
   "source": [
    "# visualize the feature table (OTU table)\n",
    "\n",
    "!qiime feature-table summarize \\\n",
    "--i-table feature-tables/table-beepollen.qza \\\n",
    "--o-visualization feature-tables/table-beepollen.qzv \\\n",
    "--m-sample-metadata-file $metafile"
   ]
  },
  {
   "cell_type": "code",
   "execution_count": null,
   "metadata": {},
   "outputs": [],
   "source": [
    "# filter low feature counts for better visualization\n",
    "\n",
    "!qiime feature-table filter-features \\\n",
    "--i-table feature-tables/table-beepollen.qza \\\n",
    "--p-min-frequency 1000 \\\n",
    "--p-min-samples 4 \\\n",
    "--o-filtered-table feature-tables/filtered_table.qza"
   ]
  },
  {
   "cell_type": "code",
   "execution_count": null,
   "metadata": {},
   "outputs": [],
   "source": [
    "# use sklearn NB classifier\n",
    "if not os.path.exists(\"classifier\"):\n",
    "    os.makedirs(\"classifier\")"
   ]
  },
  {
   "cell_type": "code",
   "execution_count": null,
   "metadata": {},
   "outputs": [],
   "source": [
    "# import reference sequence\n",
    "!qiime tools import \\\n",
    "--type 'FeatureData[Sequence]' \\\n",
    "--input-path $ITS_ref_seq \\\n",
    "--output-path ./classifier/ITS2_starky_db_rep.qza"
   ]
  },
  {
   "cell_type": "code",
   "execution_count": null,
   "metadata": {},
   "outputs": [],
   "source": [
    "# import reference sequence taxonomy mapping\n",
    "!qiime tools import \\\n",
    "--type 'FeatureData[Taxonomy]' \\\n",
    "--input-format HeaderlessTSVTaxonomyFormat \\\n",
    "--input-path $ITS_ref_mapping \\\n",
    "--output-path ./classifier/ITS2_starky_db_taxonomy.qza"
   ]
  },
  {
   "cell_type": "code",
   "execution_count": null,
   "metadata": {},
   "outputs": [],
   "source": [
    "if not os.path.exists(\"taxonomy\"):\n",
    "    os.makedirs(\"taxonomy\")"
   ]
  },
  {
   "cell_type": "code",
   "execution_count": null,
   "metadata": {},
   "outputs": [],
   "source": [
    "# train classifier\n",
    "!qiime feature-classifier fit-classifier-naive-bayes \\\n",
    "--i-reference-reads classifier/ITS2_starky_db_rep.qza \\\n",
    "--i-reference-taxonomy classifier/ITS2_starky_db_taxonomy.qza \\\n",
    "--o-classifier classifier/classifier_ITS2_starkey_db_default.qza"
   ]
  },
  {
   "cell_type": "code",
   "execution_count": null,
   "metadata": {},
   "outputs": [],
   "source": [
    "# assign taxonomy\n",
    "!qiime feature-classifier classify-sklearn \\\n",
    "--i-classifier classifier/classifier_ITS2_starkey_db_default.qza \\\n",
    "--i-reads rep_seq_beepollen.qza \\\n",
    "--o-classification ./taxonomy/taxonomy_beepollen_ITS2_default.qza"
   ]
  },
  {
   "cell_type": "code",
   "execution_count": null,
   "metadata": {},
   "outputs": [],
   "source": [
    "# making relative taxonomy barplot\n",
    "!qiime taxa barplot \\\n",
    "--i-table feature-tables/filtered_table.qza \\\n",
    "--i-taxonomy taxonomy/taxonomy_beepollen_ITS2_default.qza \\\n",
    "--m-metadata-file $metafile \\\n",
    "--o-visualization taxonomy/barplot_beepollen_ITS2_default.qzv"
   ]
  },
  {
   "cell_type": "markdown",
   "metadata": {},
   "source": [
    "## With regional *rbcL* database \n",
    "\n",
    "### Paired End"
   ]
  },
  {
   "cell_type": "code",
   "execution_count": 8,
   "metadata": {},
   "outputs": [],
   "source": [
    "# change to rbcL analysis folder\n",
    "os.chdir(path_rbcL_pair)"
   ]
  },
  {
   "cell_type": "code",
   "execution_count": 9,
   "metadata": {},
   "outputs": [],
   "source": [
    "# rbcL primers' lengths\n",
    "\n",
    "rbcL_f_len = len(\"TGGCAGCATTYCGAGTAACTC\")\n",
    "rbcL_r_len = len(\"GTAAAATCAAGTCCACCRCG\")"
   ]
  },
  {
   "cell_type": "code",
   "execution_count": 10,
   "metadata": {},
   "outputs": [
    {
     "name": "stdout",
     "output_type": "stream",
     "text": [
      "\n",
      "        ####################################################\n",
      "        #########     metaBar_Qiime2_Manifest     ##########\n",
      "        ####################################################\n",
      "        \n",
      "# of reads: 1114\n",
      "# of reads in the manifest file: 1114\n",
      "\n",
      "Manifest Completed\n"
     ]
    }
   ],
   "source": [
    "# making manifest file for rbcL\n",
    "manifest_rbcL = metaBar.metaBar_Qiime2_Manifest(rbcL_reads, platesetup, sheetname=0, matchby=\"sample\")"
   ]
  },
  {
   "cell_type": "code",
   "execution_count": 11,
   "metadata": {},
   "outputs": [],
   "source": [
    "!mv ITSS2F@ITS4R_manifest.csv beepollen_rbcL_manifest.csv"
   ]
  },
  {
   "cell_type": "code",
   "execution_count": 12,
   "metadata": {},
   "outputs": [
    {
     "name": "stdout",
     "output_type": "stream",
     "text": [
      "\u001b[32mImported ./beepollen_rbcL_manifest.csv as PairedEndFastqManifestPhred33 to beepollen.qza\u001b[0m\r\n"
     ]
    }
   ],
   "source": [
    "# import reads into pipeline\n",
    "!qiime tools import \\\n",
    "--type 'SampleData[PairedEndSequencesWithQuality]' \\\n",
    "--input-path ./beepollen_rbcL_manifest.csv \\\n",
    "--output-path beepollen.qza \\\n",
    "--input-format PairedEndFastqManifestPhred33"
   ]
  },
  {
   "cell_type": "code",
   "execution_count": 13,
   "metadata": {},
   "outputs": [
    {
     "name": "stdout",
     "output_type": "stream",
     "text": [
      "\u001b[32mSaved Visualization to: beepollen_seqs_rbcL.qzv\u001b[0m\r\n"
     ]
    }
   ],
   "source": [
    "# check sequence quality\n",
    "!qiime demux summarize \\\n",
    "--i-data beepollen.qza \\\n",
    "--o-visualization beepollen_seqs_rbcL.qzv"
   ]
  },
  {
   "cell_type": "code",
   "execution_count": 14,
   "metadata": {},
   "outputs": [],
   "source": [
    "# make folders to store dada2 and feature-table results\n",
    "\n",
    "if not os.path.exists(\"dada2-stats\"):\n",
    "    os.makedirs(\"dada2-stats\")\n",
    "    \n",
    "if not os.path.exists(\"feature-tables\"):\n",
    "    os.makedirs(\"feature-tables\")"
   ]
  },
  {
   "cell_type": "code",
   "execution_count": 15,
   "metadata": {},
   "outputs": [
    {
     "name": "stdout",
     "output_type": "stream",
     "text": [
      "\u001b[32mSaved FeatureTable[Frequency] to: feature-tables/table-beepollen.qza\u001b[0m\r\n",
      "\u001b[32mSaved FeatureData[Sequence] to: rep_seq_beepollen.qza\u001b[0m\r\n",
      "\u001b[32mSaved SampleData[DADA2Stats] to: dada2-stats/dada2_stats.qza\u001b[0m\r\n"
     ]
    }
   ],
   "source": [
    "# dada2 denosing\n",
    "# truncate quality cutoff 22\n",
    "\n",
    "!qiime dada2 denoise-paired \\\n",
    "--i-demultiplexed-seqs beepollen.qza \\\n",
    "--output-dir dada2 \\\n",
    "--o-table feature-tables/table-beepollen \\\n",
    "--o-representative-sequences rep_seq_beepollen \\\n",
    "--p-trim-left-f $rbcL_f_len \\\n",
    "--p-trim-left-r $rbcL_r_len \\\n",
    "--p-trunc-len-f 299 \\\n",
    "--p-trunc-len-r 268 \\\n",
    "--p-n-threads 12 \\\n",
    "--o-denoising-stats dada2-stats/dada2_stats.qza\n"
   ]
  },
  {
   "cell_type": "code",
   "execution_count": 16,
   "metadata": {},
   "outputs": [
    {
     "name": "stdout",
     "output_type": "stream",
     "text": [
      "\u001b[32mSaved Visualization to: dada2-stats/dada2_stats.qzv\u001b[0m\r\n"
     ]
    }
   ],
   "source": [
    "# output dada2 stats visualization\n",
    "\n",
    "!qiime metadata tabulate \\\n",
    "--m-input-file dada2-stats/dada2_stats.qza \\\n",
    "--o-visualization dada2-stats/dada2_stats.qzv"
   ]
  },
  {
   "cell_type": "code",
   "execution_count": 17,
   "metadata": {},
   "outputs": [
    {
     "name": "stdout",
     "output_type": "stream",
     "text": [
      "\u001b[32mSaved FeatureTable[Frequency] to: feature-tables/filtered_table.qza\u001b[0m\r\n"
     ]
    }
   ],
   "source": [
    "# filter OTU table: minimun feature for the sample: 1000, and the feature has to be in at least 4 samples\n",
    "\n",
    "!qiime feature-table filter-features \\\n",
    "--i-table feature-tables/table-beepollen.qza \\\n",
    "--p-min-frequency 1000 \\\n",
    "--p-min-samples 4 \\\n",
    "--o-filtered-table feature-tables/filtered_table.qza"
   ]
  },
  {
   "cell_type": "code",
   "execution_count": 18,
   "metadata": {},
   "outputs": [],
   "source": [
    "if not os.path.exists(\"classifier\"):\n",
    "    os.makedirs(\"classifier\")"
   ]
  },
  {
   "cell_type": "code",
   "execution_count": 19,
   "metadata": {},
   "outputs": [
    {
     "name": "stdout",
     "output_type": "stream",
     "text": [
      "\u001b[32mImported /media/swaggyp1985/HDD4T/OSU_Projects_2017-2018/running_project/beepollen_github/database_beepollen/Regional/rbcL_Regional.fasta as DNASequencesDirectoryFormat to ./classifier/rbcL_refined_db.qza\u001b[0m\r\n"
     ]
    }
   ],
   "source": [
    "# import reference sequences\n",
    "\n",
    "!qiime tools import \\\n",
    "--type 'FeatureData[Sequence]' \\\n",
    "--input-path $rbcL_ref_seq \\\n",
    "--output-path ./classifier/rbcL_refined_db.qza"
   ]
  },
  {
   "cell_type": "code",
   "execution_count": 21,
   "metadata": {},
   "outputs": [
    {
     "name": "stdout",
     "output_type": "stream",
     "text": [
      "\u001b[32mImported /media/swaggyp1985/HDD4T/OSU_Projects_2017-2018/running_project/beepollen_github/database_beepollen/Regional/rbcL_Regional.mapping as HeaderlessTSVTaxonomyFormat to ./classifier/rbcL_refined_taxonomy.qza\u001b[0m\r\n"
     ]
    }
   ],
   "source": [
    "# import reference taxonomy mapping\n",
    "\n",
    "!qiime tools import \\\n",
    "--type 'FeatureData[Taxonomy]' \\\n",
    "--input-format HeaderlessTSVTaxonomyFormat \\\n",
    "--input-path $rbcL_ref_mapping \\\n",
    "--output-path ./classifier/rbcL_refined_taxonomy.qza"
   ]
  },
  {
   "cell_type": "code",
   "execution_count": 22,
   "metadata": {},
   "outputs": [],
   "source": [
    "if not os.path.exists(\"taxonomy\"):\n",
    "    os.makedirs(\"taxonomy\")"
   ]
  },
  {
   "cell_type": "code",
   "execution_count": 23,
   "metadata": {},
   "outputs": [
    {
     "name": "stdout",
     "output_type": "stream",
     "text": [
      "\u001b[32mSaved TaxonomicClassifier to: ./classifier/classifier_rbcL_refined_default.qza\u001b[0m\r\n"
     ]
    }
   ],
   "source": [
    "# train classifier: naive bayes\n",
    "\n",
    "!qiime feature-classifier fit-classifier-naive-bayes \\\n",
    "--i-reference-reads ./classifier/rbcL_refined_db.qza \\\n",
    "--i-reference-taxonomy ./classifier/rbcL_refined_taxonomy.qza \\\n",
    "--o-classifier ./classifier/classifier_rbcL_refined_default.qza"
   ]
  },
  {
   "cell_type": "code",
   "execution_count": 24,
   "metadata": {},
   "outputs": [
    {
     "name": "stdout",
     "output_type": "stream",
     "text": [
      "\u001b[32mSaved FeatureData[Taxonomy] to: ./taxonomy/taxonomy_rbcL_default.qza\u001b[0m\r\n"
     ]
    }
   ],
   "source": [
    "# assign taxonomy\n",
    "\n",
    "!qiime feature-classifier classify-sklearn \\\n",
    "--i-classifier ./classifier/classifier_rbcL_refined_default.qza \\\n",
    "--i-reads rep_seq_beepollen.qza \\\n",
    "--o-classification ./taxonomy/taxonomy_rbcL_default"
   ]
  },
  {
   "cell_type": "code",
   "execution_count": 25,
   "metadata": {},
   "outputs": [
    {
     "name": "stdout",
     "output_type": "stream",
     "text": [
      "\u001b[32mSaved Visualization to: taxonomy/taxonomy_rbcL_default.qzv\u001b[0m\r\n"
     ]
    }
   ],
   "source": [
    "# visualize taxonomy table\n",
    "\n",
    "!qiime metadata tabulate \\\n",
    "--m-input-file taxonomy/taxonomy_rbcL_default.qza \\\n",
    "--o-visualization taxonomy/taxonomy_rbcL_default.qzv"
   ]
  },
  {
   "cell_type": "code",
   "execution_count": 26,
   "metadata": {},
   "outputs": [
    {
     "name": "stdout",
     "output_type": "stream",
     "text": [
      "\u001b[32mSaved Visualization to: taxonomy/barplot_rbcL_default.qzv\u001b[0m\r\n"
     ]
    }
   ],
   "source": [
    "# taxonomy relative frequency in barplot\n",
    "\n",
    "!qiime taxa barplot \\\n",
    "--i-table feature-tables/filtered_table.qza \\\n",
    "--i-taxonomy taxonomy/taxonomy_rbcL_default.qza \\\n",
    "--m-metadata-file ../../meta_beepollen_all.csv \\\n",
    "--o-visualization taxonomy/barplot_rbcL_default.qzv"
   ]
  },
  {
   "cell_type": "markdown",
   "metadata": {},
   "source": [
    "### single end"
   ]
  },
  {
   "cell_type": "code",
   "execution_count": 27,
   "metadata": {},
   "outputs": [],
   "source": [
    "os.chdir(path_rbcL_single)"
   ]
  },
  {
   "cell_type": "code",
   "execution_count": 28,
   "metadata": {},
   "outputs": [
    {
     "name": "stdout",
     "output_type": "stream",
     "text": [
      "\n",
      "        ####################################################\n",
      "        #########     metaBar_Qiime2_Manifest     ##########\n",
      "        ####################################################\n",
      "        \n",
      "# of reads: 557\n",
      "# of reads in the manifest file: 557\n",
      "\n",
      "Manifest Completed\n"
     ]
    }
   ],
   "source": [
    "# making manifest file\n",
    "manifest_rbcL_single = metaBar.metaBar_Qiime2_Manifest(rbcL_reads, platesetup, sheetname=0, matchby=\"sample\", paired=False)"
   ]
  },
  {
   "cell_type": "code",
   "execution_count": 29,
   "metadata": {},
   "outputs": [],
   "source": [
    "!mv ITSS2F@ITS4R_manifest.csv rbcl_single_manifest.csv"
   ]
  },
  {
   "cell_type": "code",
   "execution_count": 30,
   "metadata": {},
   "outputs": [],
   "source": [
    "rbcL_f_len = len(\"TGGCAGCATTYCGAGTAACTC\")"
   ]
  },
  {
   "cell_type": "code",
   "execution_count": 35,
   "metadata": {},
   "outputs": [],
   "source": [
    "if not os.path.exists(\"dada2-stats\"):\n",
    "    os.makedirs(\"dada2-stats\")\n",
    "    \n",
    "if not os.path.exists(\"feature-tables\"):\n",
    "    os.makedirs(\"feature-tables\")"
   ]
  },
  {
   "cell_type": "code",
   "execution_count": 31,
   "metadata": {},
   "outputs": [
    {
     "name": "stdout",
     "output_type": "stream",
     "text": [
      "\u001b[32mImported ./rbcl_single_manifest.csv as SingleEndFastqManifestPhred33 to single_rbcl_beepollen.qza\u001b[0m\r\n"
     ]
    }
   ],
   "source": [
    "# import forward sequences into qiime2\n",
    "\n",
    "!qiime tools import \\\n",
    "--type 'SampleData[SequencesWithQuality]' \\\n",
    "--input-path ./rbcl_single_manifest.csv \\\n",
    "--output-path single_rbcl_beepollen.qza \\\n",
    "--input-format SingleEndFastqManifestPhred33"
   ]
  },
  {
   "cell_type": "code",
   "execution_count": 33,
   "metadata": {},
   "outputs": [
    {
     "data": {
      "text/plain": [
       "['Saved Visualization to: single_beepollen_seqs_rbcL.qzv']"
      ]
     },
     "execution_count": 33,
     "metadata": {},
     "output_type": "execute_result"
    }
   ],
   "source": [
    "# view summarise of the quality\n",
    "!qiime demux summarize \\\n",
    "--i-data single_rbcl_beepollen.qza \\\n",
    "--o-visualization single_beepollen_seqs_rbcL.qzv"
   ]
  },
  {
   "cell_type": "code",
   "execution_count": 36,
   "metadata": {},
   "outputs": [
    {
     "name": "stdout",
     "output_type": "stream",
     "text": [
      "\u001b[32mSaved FeatureTable[Frequency] to: table-se-beepollen.qza\u001b[0m\r\n",
      "\u001b[32mSaved FeatureData[Sequence] to: rep_se_seq_beepollen.qza\u001b[0m\r\n",
      "\u001b[32mSaved SampleData[DADA2Stats] to: dada2-stats/dada2_stats.qza\u001b[0m\r\n"
     ]
    }
   ],
   "source": [
    "# dada2 for single end\n",
    "\n",
    "!qiime dada2 denoise-single \\\n",
    "--i-demultiplexed-seqs single_rbcl_beepollen.qza \\\n",
    "--output-dir dada2 \\\n",
    "--o-table table-se-beepollen \\\n",
    "--o-representative-sequences rep_se_seq_beepollen \\\n",
    "--p-trim-left $rbcL_f_len \\\n",
    "--p-trunc-len 299 \\\n",
    "--p-n-threads 12 \\\n",
    "--o-denoising-stats dada2-stats/dada2_stats.qza"
   ]
  },
  {
   "cell_type": "code",
   "execution_count": 37,
   "metadata": {},
   "outputs": [
    {
     "name": "stdout",
     "output_type": "stream",
     "text": [
      "\u001b[32mSaved FeatureTable[Frequency] to: filtered_table.qza\u001b[0m\r\n"
     ]
    }
   ],
   "source": [
    "# filter table\n",
    "!qiime feature-table filter-features \\\n",
    "--i-table table-se-beepollen.qza \\\n",
    "--p-min-frequency 1000 \\\n",
    "--p-min-samples 4 \\\n",
    "--o-filtered-table filtered_table.qza"
   ]
  },
  {
   "cell_type": "code",
   "execution_count": 38,
   "metadata": {},
   "outputs": [],
   "source": [
    "if not os.path.exists(\"classifier\"):\n",
    "    os.makedirs(\"classifier\")\n",
    "    \n",
    "if not os.path.exists(\"taxonomy\"):\n",
    "    os.makedirs(\"taxonomy\")"
   ]
  },
  {
   "cell_type": "code",
   "execution_count": 39,
   "metadata": {},
   "outputs": [
    {
     "name": "stdout",
     "output_type": "stream",
     "text": [
      "\u001b[32mImported /media/swaggyp1985/HDD4T/OSU_Projects_2017-2018/running_project/beepollen_github/database_beepollen/Regional/rbcL_Regional.fasta as DNASequencesDirectoryFormat to ./classifier/rbcL_refined_db.qza\u001b[0m\r\n"
     ]
    }
   ],
   "source": [
    "# import referece sequences into qiime2\n",
    "\n",
    "!qiime tools import \\\n",
    "--type 'FeatureData[Sequence]' \\\n",
    "--input-path $rbcL_ref_seq \\\n",
    "--output-path ./classifier/rbcL_refined_db.qza"
   ]
  },
  {
   "cell_type": "code",
   "execution_count": 40,
   "metadata": {},
   "outputs": [
    {
     "name": "stdout",
     "output_type": "stream",
     "text": [
      "\u001b[32mImported /media/swaggyp1985/HDD4T/OSU_Projects_2017-2018/running_project/beepollen_github/database_beepollen/Regional/rbcL_Regional.mapping as HeaderlessTSVTaxonomyFormat to ./classifier/rbcL_refined_taxonomy.qza\u001b[0m\r\n"
     ]
    }
   ],
   "source": [
    "# import reference taxonomy mapping into qiime2\n",
    "\n",
    "!qiime tools import \\\n",
    "--type 'FeatureData[Taxonomy]' \\\n",
    "--input-format HeaderlessTSVTaxonomyFormat \\\n",
    "--input-path $rbcL_ref_mapping \\\n",
    "--output-path ./classifier/rbcL_refined_taxonomy.qza"
   ]
  },
  {
   "cell_type": "code",
   "execution_count": 41,
   "metadata": {},
   "outputs": [
    {
     "name": "stdout",
     "output_type": "stream",
     "text": [
      "\u001b[32mSaved TaxonomicClassifier to: ./classifier/classifier_rbcL_refined_default.qza\u001b[0m\r\n"
     ]
    }
   ],
   "source": [
    "# train classifier\n",
    "\n",
    "!qiime feature-classifier fit-classifier-naive-bayes \\\n",
    "--i-reference-reads ./classifier/rbcL_refined_db.qza \\\n",
    "--i-reference-taxonomy ./classifier/rbcL_refined_taxonomy.qza \\\n",
    "--o-classifier ./classifier/classifier_rbcL_refined_default.qza"
   ]
  },
  {
   "cell_type": "code",
   "execution_count": 42,
   "metadata": {},
   "outputs": [
    {
     "name": "stdout",
     "output_type": "stream",
     "text": [
      "\u001b[32mSaved FeatureData[Taxonomy] to: ./taxonomy/taxonomy_rbcL_default.qza\u001b[0m\r\n"
     ]
    }
   ],
   "source": [
    "# assign taxonomy\n",
    "\n",
    "!qiime feature-classifier classify-sklearn \\\n",
    "--i-classifier ./classifier/classifier_rbcL_refined_default.qza \\\n",
    "--i-reads rep_se_seq_beepollen.qza \\\n",
    "--o-classification ./taxonomy/taxonomy_rbcL_default.qza"
   ]
  },
  {
   "cell_type": "code",
   "execution_count": 43,
   "metadata": {},
   "outputs": [
    {
     "name": "stdout",
     "output_type": "stream",
     "text": [
      "\u001b[32mSaved Visualization to: taxonomy/taxonomy_rbcL_default.qzv\u001b[0m\r\n"
     ]
    }
   ],
   "source": [
    "# visualizing taxonomy assignment\n",
    "\n",
    "!qiime metadata tabulate \\\n",
    "--m-input-file taxonomy/taxonomy_rbcL_default.qza \\\n",
    "--o-visualization taxonomy/taxonomy_rbcL_default.qzv"
   ]
  },
  {
   "cell_type": "code",
   "execution_count": 46,
   "metadata": {},
   "outputs": [
    {
     "name": "stdout",
     "output_type": "stream",
     "text": [
      "\u001b[32mSaved Visualization to: taxonomy/barplot_rbcL_default.qzv\u001b[0m\r\n"
     ]
    }
   ],
   "source": [
    "# taxonomy composition\n",
    "\n",
    "!qiime taxa barplot \\\n",
    "--i-table filtered_table.qza \\\n",
    "--i-taxonomy taxonomy/taxonomy_rbcL_default.qza \\\n",
    "--m-metadata-file $metafile \\\n",
    "--o-visualization taxonomy/barplot_rbcL_default.qzv"
   ]
  },
  {
   "cell_type": "code",
   "execution_count": null,
   "metadata": {},
   "outputs": [],
   "source": []
  }
 ],
 "metadata": {
  "kernelspec": {
   "display_name": "Python 3",
   "language": "python",
   "name": "python3"
  },
  "language_info": {
   "codemirror_mode": {
    "name": "ipython",
    "version": 3
   },
   "file_extension": ".py",
   "mimetype": "text/x-python",
   "name": "python",
   "nbconvert_exporter": "python",
   "pygments_lexer": "ipython3",
   "version": "3.6.7"
  }
 },
 "nbformat": 4,
 "nbformat_minor": 2
}
