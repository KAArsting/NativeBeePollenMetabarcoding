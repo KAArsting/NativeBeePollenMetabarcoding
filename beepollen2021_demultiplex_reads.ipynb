{
 "cells": [
  {
   "cell_type": "markdown",
   "metadata": {},
   "source": [
    "Arstingstall, K.A., S.J. DeBano, X. Li, D.E. Wooster, M.M. Rowland, S. Burrows, & K. Frost; 2020; DNA metabarcoding of native bee pollen loads"
   ]
  },
  {
   "cell_type": "code",
   "execution_count": null,
   "metadata": {},
   "outputs": [],
   "source": [
    "from sort_reads import Sort_reads\n",
    "from metaBarTools import metaBar_PreX\n",
    "import os"
   ]
  },
  {
   "cell_type": "markdown",
   "metadata": {},
   "source": [
    "* reads come from two folders"
   ]
  },
  {
   "cell_type": "code",
   "execution_count": null,
   "metadata": {},
   "outputs": [],
   "source": [
    "# readspath1 from plate 1-4, readspath2 from plate 5-7\n",
    "\n",
    "readspath1 = \"/BeePollen/reads\"\n",
    "readspath2 = \"/BeePollen2/reads\"\n",
    "\n",
    "readscopyfolder1 = os.path.join(os.getcwd(), 'beepollen1-reads-copy')\n",
    "readscopyfolder2 = os.path.join(os.getcwd(), 'beepollen2-reads-copy')"
   ]
  },
  {
   "cell_type": "code",
   "execution_count": null,
   "metadata": {},
   "outputs": [],
   "source": [
    "# metafile for qiime2\n",
    "grouping_file = \"./meta_group_location.csv\" # meta_group_location.csv\n",
    "metafile = os.path.abspath(\"./meta_beepollen_all.csv\")\n",
    "platesetup = os.path.abspath(\"./beepollen_all.xlsx\")"
   ]
  },
  {
   "cell_type": "code",
   "execution_count": null,
   "metadata": {},
   "outputs": [],
   "source": [
    "metaBar = metaBar_PreX()"
   ]
  },
  {
   "cell_type": "code",
   "execution_count": null,
   "metadata": {},
   "outputs": [],
   "source": [
    "path_ITS, path_rbcL = metaBar.metaBar_makeSubDir(\"Regional_reads\", [\"\", \"\"])"
   ]
  },
  {
   "cell_type": "code",
   "execution_count": null,
   "metadata": {},
   "outputs": [],
   "source": [
    "metaBar.metaBar_Copy(readspath1, readscopyfolder1)\n",
    "metaBar.metaBar_Copy(readspath2, readscopyfolder2)"
   ]
  },
  {
   "cell_type": "code",
   "execution_count": null,
   "metadata": {},
   "outputs": [],
   "source": [
    "# separating the mixed reads (rbcL and ITS2)\n",
    "!python demuplex_reads.py --reads $readscopyfolder1 $readscopyfolder2 --m 3 --primer ./primerfile"
   ]
  },
  {
   "cell_type": "code",
   "execution_count": null,
   "metadata": {},
   "outputs": [],
   "source": [
    "# move the ITS reads and rbcL reads to the Regional_reads folder\n",
    "!mv ITS-reads/ Regional_reads/\n",
    "!mv rbcL-reads/ Regional_reads/"
   ]
  },
  {
   "cell_type": "code",
   "execution_count": null,
   "metadata": {},
   "outputs": [],
   "source": [
    "# separate ITS and rbcL reads path\n",
    "ITS_reads_all = os.path.abspath('./Regional_reads/ITS-reads/')\n",
    "rbcL_reads_all = os.path.abspath('./Regional_reads/rbcL-reads/')"
   ]
  },
  {
   "cell_type": "code",
   "execution_count": null,
   "metadata": {},
   "outputs": [],
   "source": [
    "print(ITS_reads_all)\n",
    "print(rbcL_reads_all)"
   ]
  },
  {
   "cell_type": "code",
   "execution_count": null,
   "metadata": {},
   "outputs": [],
   "source": [
    "ITS_reads_local, rbcL_reads_local = metaBar.metaBar_makeSubDir(\"Local_reads\", [\"ITS_reads_local\", \"rbcL_reads_local\"])"
   ]
  },
  {
   "cell_type": "code",
   "execution_count": null,
   "metadata": {},
   "outputs": [],
   "source": [
    "# grouping ITS2 by study sites\n",
    "grouped_ITS = Sort_reads(ITS_reads_all, metafile)\n",
    "grouping_ITS = grouped_ITS.grouping_reads(\"Location\")\n",
    "grouping_ITS_path = grouping_ITS.copy_reads(ITS_reads_local, \"reads_copy_by_location\")"
   ]
  },
  {
   "cell_type": "code",
   "execution_count": null,
   "metadata": {},
   "outputs": [],
   "source": [
    "grouping_ITS_path"
   ]
  },
  {
   "cell_type": "code",
   "execution_count": null,
   "metadata": {},
   "outputs": [],
   "source": [
    "# grouping rbcL by study sites\n",
    "\n",
    "grouped_rbcL = Sort_reads(rbcL_reads_all, metafile)\n",
    "grouping_rbcL = grouped_rbcL.grouping_reads(\"Location\")\n",
    "grouping_rbcL_path = grouping_rbcL.copy_reads(rbcL_reads_local, \"reads_copy_by_location\")"
   ]
  },
  {
   "cell_type": "code",
   "execution_count": null,
   "metadata": {},
   "outputs": [],
   "source": [
    "grouping_rbcL_path"
   ]
  }
 ],
 "metadata": {
  "kernelspec": {
   "display_name": "Python 3",
   "language": "python",
   "name": "python3"
  },
  "language_info": {
   "codemirror_mode": {
    "name": "ipython",
    "version": 3
   },
   "file_extension": ".py",
   "mimetype": "text/x-python",
   "name": "python",
   "nbconvert_exporter": "python",
   "pygments_lexer": "ipython3",
   "version": "3.7.9"
  }
 },
 "nbformat": 4,
 "nbformat_minor": 4
}
