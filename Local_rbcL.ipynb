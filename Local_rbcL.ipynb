{
 "cells": [
  {
   "cell_type": "markdown",
   "metadata": {},
   "source": [
    "# Pipeline for analyzing local data (rbcL)\n",
    "\n",
    "Arstingstall, K.A., S.J. DeBano, X. Li, D.E. Wooster, M.M. Rowland, S. Burrows, & K. Frost; 2020; DNA metabarcoding of native bee pollen loads"
   ]
  },
  {
   "cell_type": "code",
   "execution_count": null,
   "metadata": {},
   "outputs": [],
   "source": [
    "import os\n",
    "from metaBarTools import metaBar_PreX"
   ]
  },
  {
   "cell_type": "code",
   "execution_count": null,
   "metadata": {},
   "outputs": [],
   "source": [
    "!qiime --version #version 2020.11.1"
   ]
  },
  {
   "cell_type": "code",
   "execution_count": null,
   "metadata": {},
   "outputs": [],
   "source": [
    "metaBar = metaBar_PreX()"
   ]
  },
  {
   "cell_type": "code",
   "execution_count": null,
   "metadata": {},
   "outputs": [],
   "source": [
    "# metafile and platesetup file\n",
    "metafile = os.path.abspath(\"./meta_beepollen_all.csv\")\n",
    "platesetup = os.path.abspath(\"./beepollen_all.xlsx\")"
   ]
  },
  {
   "cell_type": "code",
   "execution_count": null,
   "metadata": {},
   "outputs": [],
   "source": [
    "rbcL_reads_local = os.path.abspath(\"./Local_reads/rbcL_reads_local/reads_copy_by_location/\")"
   ]
  },
  {
   "cell_type": "code",
   "execution_count": null,
   "metadata": {},
   "outputs": [],
   "source": [
    "path_rbcL = metaBar.metaBar_makeSubDir(\"Local_Results\", [\"rbcL_result\"]) # note analysize on paired end"
   ]
  },
  {
   "cell_type": "code",
   "execution_count": null,
   "metadata": {},
   "outputs": [],
   "source": [
    "path_rbcL"
   ]
  },
  {
   "cell_type": "code",
   "execution_count": null,
   "metadata": {},
   "outputs": [],
   "source": [
    "rbcL_f_len = len(\"TGGCAGCATTYCGAGTAACTC\")\n",
    "rbcL_r_len = len(\"GTAAAATCAAGTCCACCRCG\")"
   ]
  },
  {
   "cell_type": "code",
   "execution_count": null,
   "metadata": {},
   "outputs": [],
   "source": [
    "# classifiers noncurated\n",
    "# use updated classifiers with missed sp\n",
    "ncrt_starky_classifier = os.path.abspath(\"./classifiers_updated/rbcL/classifiers/local/starky_rbcL_noncurated_classifier.qza\")\n",
    "ncrt_3m_classifier = os.path.abspath(\"./classifiers_updated/rbcL/classifiers/local/threemile_rbcL_noncurated_classifier.qza\")\n",
    "ncrt_zum_classifier = os.path.abspath(\"./classifiers_updated/rbcL/classifiers/local/zum_rbcL_noncurated_classifier.qza\")"
   ]
  },
  {
   "cell_type": "markdown",
   "metadata": {},
   "source": [
    "## Analyze rbcL local data (with local rbcL database)"
   ]
  },
  {
   "cell_type": "code",
   "execution_count": null,
   "metadata": {},
   "outputs": [],
   "source": [
    "# change working directory to rbcL_result\n",
    "os.chdir(path_rbcL[0])\n",
    "print(os.getcwd())"
   ]
  },
  {
   "cell_type": "code",
   "execution_count": null,
   "metadata": {},
   "outputs": [],
   "source": [
    "# make sub folders for each location\n",
    "\n",
    "subpaths = []\n",
    "\n",
    "for i in os.listdir(rbcL_reads_local):\n",
    "    if i in [\"ZUM\", \"Star\", \"RDO\"]:\n",
    "        if not os.path.exists(i):\n",
    "            os.makedirs(i)\n",
    "            \n",
    "        subpaths.append(os.path.abspath(i))"
   ]
  },
  {
   "cell_type": "code",
   "execution_count": null,
   "metadata": {},
   "outputs": [],
   "source": [
    "subpaths"
   ]
  },
  {
   "cell_type": "markdown",
   "metadata": {},
   "source": [
    "## ZUM"
   ]
  },
  {
   "cell_type": "code",
   "execution_count": null,
   "metadata": {},
   "outputs": [],
   "source": [
    "os.chdir(subpaths[0])\n",
    "print(os.getcwd())"
   ]
  },
  {
   "cell_type": "code",
   "execution_count": null,
   "metadata": {},
   "outputs": [],
   "source": [
    "# make manifest file\n",
    "manifest_zum = metaBar.metaBar_Qiime2_Manifest(os.path.join(rbcL_reads_local, \"ZUM\"), platesetup, sheetname=0, matchby=\"sample\")"
   ]
  },
  {
   "cell_type": "code",
   "execution_count": null,
   "metadata": {},
   "outputs": [],
   "source": [
    "!mv ITSS2F@ITS4R_manifest.csv zum_rbcL_manifest.csv"
   ]
  },
  {
   "cell_type": "code",
   "execution_count": null,
   "metadata": {},
   "outputs": [],
   "source": [
    "# load reads into qiime2\n",
    "\n",
    "!qiime tools import \\\n",
    "--type 'SampleData[PairedEndSequencesWithQuality]' \\\n",
    "--input-path ./zum_rbcL_manifest.csv \\\n",
    "--output-path zum_rbcL.qza \\\n",
    "--input-format PairedEndFastqManifestPhred33"
   ]
  },
  {
   "cell_type": "code",
   "execution_count": null,
   "metadata": {},
   "outputs": [],
   "source": [
    "# view summarise of the quality\n",
    "!qiime demux summarize \\\n",
    "--i-data zum_rbcL.qza \\\n",
    "--o-visualization zum_rbcL_seq.qzv"
   ]
  },
  {
   "cell_type": "code",
   "execution_count": null,
   "metadata": {},
   "outputs": [],
   "source": [
    "if not os.path.exists(\"dada2-stats\"):\n",
    "    os.makedirs(\"dada2-stats\")\n",
    "    \n",
    "if not os.path.exists(\"feature-tables\"):\n",
    "    os.makedirs(\"feature-tables\")"
   ]
  },
  {
   "cell_type": "code",
   "execution_count": null,
   "metadata": {},
   "outputs": [],
   "source": [
    "# dada2 denosing\n",
    "\n",
    "!qiime dada2 denoise-paired \\\n",
    "--i-demultiplexed-seqs zum_rbcL.qza \\\n",
    "--output-dir dada2 \\\n",
    "--o-table feature-tables/table_rbcL_zum.qza \\\n",
    "--o-representative-sequences rep_rbcL_zum.qza \\\n",
    "--p-trim-left-f $rbcL_f_len \\\n",
    "--p-trim-left-r $rbcL_r_len \\\n",
    "--p-trunc-len-f 300 \\\n",
    "--p-trunc-len-r 262 \\\n",
    "--o-denoising-stats dada2-stats/dada2_stats.qza \\\n",
    "--p-n-threads 12"
   ]
  },
  {
   "cell_type": "code",
   "execution_count": null,
   "metadata": {},
   "outputs": [],
   "source": [
    "# visualize the dada2 stats\n",
    "!qiime metadata tabulate \\\n",
    "--m-input-file dada2-stats/dada2_stats.qza \\\n",
    "--o-visualization dada2-stats/dada2_stats.qzv"
   ]
  },
  {
   "cell_type": "code",
   "execution_count": null,
   "metadata": {},
   "outputs": [],
   "source": [
    "if not os.path.exists(\"taxonomy_update\"):\n",
    "    os.makedirs(\"taxonomy_update\")"
   ]
  },
  {
   "cell_type": "code",
   "execution_count": null,
   "metadata": {},
   "outputs": [],
   "source": [
    "# visualize the feature table (OTU table)\n",
    "\n",
    "!qiime feature-table summarize \\\n",
    "--i-table feature-tables/table_rbcL_zum.qza \\\n",
    "--o-visualization feature-tables/table_rbcL_zum.qzv \\\n",
    "--m-sample-metadata-file $metafile"
   ]
  },
  {
   "cell_type": "code",
   "execution_count": null,
   "metadata": {},
   "outputs": [],
   "source": [
    "# assign taxonomy - noncurated\n",
    "!qiime feature-classifier classify-sklearn \\\n",
    "--i-classifier $ncrt_zum_classifier \\\n",
    "--i-reads rep_rbcL_zum.qza \\\n",
    "--o-classification ./taxonomy_update/taxonomy_update_noncurated_zum_rbcL.qza\n",
    "\n",
    "# making relative taxonomy barplot\n",
    "!qiime taxa barplot \\\n",
    "--i-table feature-tables/table_rbcL_zum.qza \\\n",
    "--i-taxonomy taxonomy_update/taxonomy_update_noncurated_zum_rbcL.qza \\\n",
    "--m-metadata-file $metafile \\\n",
    "--o-visualization taxonomy_update/barplot_update_ZUM_noncurated_rbcL.qzv"
   ]
  },
  {
   "cell_type": "markdown",
   "metadata": {},
   "source": [
    "## Star"
   ]
  },
  {
   "cell_type": "code",
   "execution_count": null,
   "metadata": {},
   "outputs": [],
   "source": [
    "os.chdir(subpaths[1])\n",
    "print(os.getcwd())"
   ]
  },
  {
   "cell_type": "code",
   "execution_count": null,
   "metadata": {},
   "outputs": [],
   "source": [
    "# make manifest file\n",
    "manifest_star = metaBar.metaBar_Qiime2_Manifest(os.path.join(rbcL_reads_local, \"Star\"), platesetup, sheetname=0, matchby=\"sample\")"
   ]
  },
  {
   "cell_type": "code",
   "execution_count": null,
   "metadata": {},
   "outputs": [],
   "source": [
    "!mv ITSS2F@ITS4R_manifest.csv star_rbcL_manifest.csv"
   ]
  },
  {
   "cell_type": "code",
   "execution_count": null,
   "metadata": {},
   "outputs": [],
   "source": [
    "# load reads into qiime2\n",
    "\n",
    "!qiime tools import \\\n",
    "--type 'SampleData[PairedEndSequencesWithQuality]' \\\n",
    "--input-path ./star_rbcL_manifest.csv \\\n",
    "--output-path star_rbcL.qza \\\n",
    "--input-format PairedEndFastqManifestPhred33"
   ]
  },
  {
   "cell_type": "code",
   "execution_count": null,
   "metadata": {},
   "outputs": [],
   "source": [
    "# view summarise of the quality\n",
    "!qiime demux summarize \\\n",
    "--i-data star_rbcL.qza \\\n",
    "--o-visualization star_rbcL_seq.qzv"
   ]
  },
  {
   "cell_type": "code",
   "execution_count": null,
   "metadata": {},
   "outputs": [],
   "source": [
    "if not os.path.exists(\"dada2-stats\"):\n",
    "    os.makedirs(\"dada2-stats\")\n",
    "    \n",
    "if not os.path.exists(\"feature-tables\"):\n",
    "    os.makedirs(\"feature-tables\")"
   ]
  },
  {
   "cell_type": "code",
   "execution_count": null,
   "metadata": {},
   "outputs": [],
   "source": [
    "# dada2 denosing\n",
    "# qscore >= 25\n",
    "# f 300\n",
    "# r 265\n",
    "!qiime dada2 denoise-paired \\\n",
    "--i-demultiplexed-seqs star_rbcL.qza \\\n",
    "--output-dir dada2 \\\n",
    "--o-table feature-tables/table_rbcL_star.qza \\\n",
    "--o-representative-sequences rep_rbcL_star.qza \\\n",
    "--p-trim-left-f $rbcL_f_len \\\n",
    "--p-trim-left-r $rbcL_r_len \\\n",
    "--p-trunc-len-f 300 \\\n",
    "--p-trunc-len-r 265 \\\n",
    "--o-denoising-stats dada2-stats/dada2_stats.qza \\\n",
    "--p-n-threads 20"
   ]
  },
  {
   "cell_type": "code",
   "execution_count": null,
   "metadata": {},
   "outputs": [],
   "source": [
    "# visualize the dada2 stats\n",
    "!qiime metadata tabulate \\\n",
    "--m-input-file dada2-stats/dada2_stats.qza \\\n",
    "--o-visualization dada2-stats/dada2_stats.qzv"
   ]
  },
  {
   "cell_type": "code",
   "execution_count": null,
   "metadata": {},
   "outputs": [],
   "source": [
    "if not os.path.exists(\"taxonomy_update\"):\n",
    "    os.makedirs(\"taxonomy_update\")"
   ]
  },
  {
   "cell_type": "code",
   "execution_count": null,
   "metadata": {},
   "outputs": [],
   "source": [
    "# visualize the feature table (OTU table)\n",
    "\n",
    "!qiime feature-table summarize \\\n",
    "--i-table feature-tables/table_rbcL_star.qza \\\n",
    "--o-visualization feature-tables/table_rbcL_star.qzv \\\n",
    "--m-sample-metadata-file $metafile"
   ]
  },
  {
   "cell_type": "code",
   "execution_count": null,
   "metadata": {},
   "outputs": [],
   "source": [
    "# assign taxonomy - noncurated\n",
    "!qiime feature-classifier classify-sklearn \\\n",
    "--i-classifier $ncrt_starky_classifier \\\n",
    "--i-reads rep_rbcL_star.qza \\\n",
    "--o-classification ./taxonomy_update/taxonomy_update_noncurated_star_rbcL.qza\n",
    "\n",
    "# making relative taxonomy barplot\n",
    "!qiime taxa barplot \\\n",
    "--i-table feature-tables/table_rbcL_star.qza \\\n",
    "--i-taxonomy taxonomy_update/taxonomy_update_noncurated_star_rbcL.qza \\\n",
    "--m-metadata-file $metafile \\\n",
    "--o-visualization taxonomy_update/barplot_update_star_noncurated_rbcL.qzv"
   ]
  },
  {
   "cell_type": "markdown",
   "metadata": {},
   "source": [
    "## RDO"
   ]
  },
  {
   "cell_type": "code",
   "execution_count": null,
   "metadata": {},
   "outputs": [],
   "source": [
    "os.chdir(subpaths[2])\n",
    "print(os.getcwd())"
   ]
  },
  {
   "cell_type": "code",
   "execution_count": null,
   "metadata": {},
   "outputs": [],
   "source": [
    "# make manifest file\n",
    "manifest_star = metaBar.metaBar_Qiime2_Manifest(os.path.join(rbcL_reads_local, \"RDO\"), platesetup, sheetname=0, matchby=\"sample\")"
   ]
  },
  {
   "cell_type": "code",
   "execution_count": null,
   "metadata": {},
   "outputs": [],
   "source": [
    "!mv ITSS2F@ITS4R_manifest.csv rdo_rbcL_manifest.csv"
   ]
  },
  {
   "cell_type": "code",
   "execution_count": null,
   "metadata": {},
   "outputs": [],
   "source": [
    "# load reads into qiime2\n",
    "!qiime tools import \\\n",
    "--type 'SampleData[PairedEndSequencesWithQuality]' \\\n",
    "--input-path ./rdo_rbcL_manifest.csv \\\n",
    "--output-path rdo_rbcL.qza \\\n",
    "--input-format PairedEndFastqManifestPhred33"
   ]
  },
  {
   "cell_type": "code",
   "execution_count": null,
   "metadata": {},
   "outputs": [],
   "source": [
    "# view summarise of the quality\n",
    "!qiime demux summarize \\\n",
    "--i-data rdo_rbcL.qza \\\n",
    "--o-visualization rdo_rbcL_seq.qzv"
   ]
  },
  {
   "cell_type": "code",
   "execution_count": null,
   "metadata": {},
   "outputs": [],
   "source": [
    "if not os.path.exists(\"dada2-stats\"):\n",
    "    os.makedirs(\"dada2-stats\")\n",
    "    \n",
    "if not os.path.exists(\"feature-tables\"):\n",
    "    os.makedirs(\"feature-tables\")"
   ]
  },
  {
   "cell_type": "code",
   "execution_count": null,
   "metadata": {},
   "outputs": [],
   "source": [
    "# dada2 denosing\n",
    "# qscore >= 25\n",
    "# f 300\n",
    "# r 259\n",
    "!qiime dada2 denoise-paired \\\n",
    "--i-demultiplexed-seqs rdo_rbcL.qza \\\n",
    "--output-dir dada2 \\\n",
    "--o-table feature-tables/table_rbcL_rdo.qza \\\n",
    "--o-representative-sequences rep_rbcL_rdo.qza \\\n",
    "--p-trim-left-f $rbcL_f_len \\\n",
    "--p-trim-left-r $rbcL_r_len \\\n",
    "--p-trunc-len-f 300 \\\n",
    "--p-trunc-len-r 259 \\\n",
    "--o-denoising-stats dada2-stats/dada2_stats.qza \\\n",
    "--p-n-threads 20"
   ]
  },
  {
   "cell_type": "code",
   "execution_count": null,
   "metadata": {},
   "outputs": [],
   "source": [
    "# visualize the dada2 stats\n",
    "!qiime metadata tabulate \\\n",
    "--m-input-file dada2-stats/dada2_stats.qza \\\n",
    "--o-visualization dada2-stats/dada2_stats.qzv"
   ]
  },
  {
   "cell_type": "code",
   "execution_count": null,
   "metadata": {},
   "outputs": [],
   "source": [
    "if not os.path.exists(\"taxonomy_update\"):\n",
    "    os.makedirs(\"taxonomy_update\")"
   ]
  },
  {
   "cell_type": "code",
   "execution_count": null,
   "metadata": {},
   "outputs": [],
   "source": [
    "# visualize the feature table (OTU table)\n",
    "\n",
    "!qiime feature-table summarize \\\n",
    "--i-table feature-tables/table_rbcL_rdo.qza \\\n",
    "--o-visualization feature-tables/table_rbcL_rdo.qzv \\\n",
    "--m-sample-metadata-file $metafile"
   ]
  },
  {
   "cell_type": "code",
   "execution_count": null,
   "metadata": {},
   "outputs": [],
   "source": [
    "# assign taxonomy - noncurated\n",
    "!qiime feature-classifier classify-sklearn \\\n",
    "--i-classifier $ncrt_3m_classifier \\\n",
    "--i-reads rep_rbcL_rdo.qza \\\n",
    "--o-classification ./taxonomy_update/taxonomy_update_noncurated_rdo_rbcL.qza\n",
    "\n",
    "# making relative taxonomy barplot\n",
    "!qiime taxa barplot \\\n",
    "--i-table feature-tables/table_rbcL_rdo.qza \\\n",
    "--i-taxonomy taxonomy_update/taxonomy_update_noncurated_rdo_rbcL.qza \\\n",
    "--m-metadata-file $metafile \\\n",
    "--o-visualization taxonomy_update/barplot_update_rdo_noncurated_rbcL.qzv"
   ]
  }
 ],
 "metadata": {
  "kernelspec": {
   "display_name": "Python 3",
   "language": "python",
   "name": "python3"
  },
  "language_info": {
   "codemirror_mode": {
    "name": "ipython",
    "version": 3
   },
   "file_extension": ".py",
   "mimetype": "text/x-python",
   "name": "python",
   "nbconvert_exporter": "python",
   "pygments_lexer": "ipython3",
   "version": "3.7.9"
  }
 },
 "nbformat": 4,
 "nbformat_minor": 4
}
